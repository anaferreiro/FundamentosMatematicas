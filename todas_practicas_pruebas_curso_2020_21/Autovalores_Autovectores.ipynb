{
 "cells": [
  {
   "cell_type": "code",
   "execution_count": 3,
   "metadata": {},
   "outputs": [
    {
     "name": "stdout",
     "output_type": "stream",
     "text": [
      "autovalores=  [ 3. -1.]\n",
      "autovectores  [[ 0.70710678 -0.70710678]\n",
      " [ 0.70710678  0.70710678]]\n",
      "[[ -1.11022302e-15   2.22044605e-16]\n",
      " [  0.00000000e+00   1.11022302e-16]]\n"
     ]
    }
   ],
   "source": [
    "import numpy as np\n",
    "import numpy.linalg as lg\n",
    "A=np.array( [ [1,2], [2,1] ] )\n",
    "l,P=lg.eig(A)\n",
    "print(\"autovalores= \", l)\n",
    "print(\"autovectores \",P) # Las columnas son los autovectores. Nos dan la matriz de paso\n",
    "D=np.diag(l)\n",
    "M= A - P@D@lg.inv(P)\n",
    "print(M)"
   ]
  },
  {
   "cell_type": "code",
   "execution_count": 5,
   "metadata": {},
   "outputs": [
    {
     "name": "stdout",
     "output_type": "stream",
     "text": [
      "[ -4.44089210e-16   0.00000000e+00]\n",
      "[  7.77156117e-16   1.11022302e-16]\n"
     ]
    }
   ],
   "source": [
    "l1,l2=l\n",
    "v1=P[:,0]\n",
    "v2=P[:,1]\n",
    "print( A@v1 - l1*v1)\n",
    "print( A@v2 - l2*v2)\n"
   ]
  },
  {
   "cell_type": "markdown",
   "metadata": {},
   "source": [
    "- Ejr de una matriz de Leslie\n"
   ]
  },
  {
   "cell_type": "code",
   "execution_count": 10,
   "metadata": {},
   "outputs": [
    {
     "name": "stdout",
     "output_type": "stream",
     "text": [
      "Autovalores=  [ 1.06782775 -0.94723866 -0.07058909]\n",
      "P=  [[-0.98688539  0.98338607  0.18326724]\n",
      " [-0.15711384 -0.17648734 -0.44136324]\n",
      " [-0.03704686  0.04247425  0.87841426]]\n",
      "[[  4.87565717e-16   2.66453526e-15   8.88178420e-16]\n",
      " [  0.00000000e+00   3.75676053e-16   6.93889390e-17]\n",
      " [  1.08420217e-17   1.66533454e-16   5.55111512e-17]]\n"
     ]
    }
   ],
   "source": [
    "A=np.array([[0,6,3],[17/100., 0, 0],[0,24./100., 5/100.] ]  )\n",
    "l,P=lg.eig(A)\n",
    "print(\"Autovalores= \", l)\n",
    "print( \"P= \", P)\n",
    "D=np.diag(l)\n",
    "M= A - P@D@lg.inv(P)\n",
    "print(M)"
   ]
  },
  {
   "cell_type": "code",
   "execution_count": 13,
   "metadata": {},
   "outputs": [
    {
     "name": "stdout",
     "output_type": "stream",
     "text": [
      "[ -8.88178420e-16  -8.32667268e-17  -3.46944695e-17]\n",
      "[  2.22044605e-16  -5.55111512e-17  -6.93889390e-18]\n",
      "[  7.28583860e-17  -1.11022302e-16  -6.93889390e-18]\n"
     ]
    }
   ],
   "source": [
    "v1=P[:,0]\n",
    "v2=P[:,1]\n",
    "v3=P[:,2]\n",
    "print(A@v1-l[0]*v1)\n",
    "print(A@v2-l[1]*v2)\n",
    "print(A@v3-l[2]*v3)"
   ]
  },
  {
   "cell_type": "code",
   "execution_count": 12,
   "metadata": {},
   "outputs": [
    {
     "name": "stdout",
     "output_type": "stream",
     "text": [
      "[-301.55766845 -302.99089355    1.93251167]\n",
      "[-301.55766845 -302.99089355    1.93251167]\n"
     ]
    }
   ],
   "source": [
    "#Evolución para cualquier instante de tiempo \"tk\"\n",
    "b=np.array([0,100,0])\n",
    "c=lg.inv(P)@b\n",
    "print(c)\n",
    "#tb podríamos hacer\n",
    "c=lg.solve(P,b)\n",
    "print(c)"
   ]
  },
  {
   "cell_type": "code",
   "execution_count": 14,
   "metadata": {},
   "outputs": [
    {
     "name": "stdout",
     "output_type": "stream",
     "text": [
      "[ 1206.89177475   192.13923       45.30571621]\n"
     ]
    }
   ],
   "source": [
    "k=20\n",
    "Ek= c[0]*(l[0]**k)*v1 + c[1]*(l[1]**k)*v1 +c[2]*(l[2]**k)*v1 \n",
    "print(Ek)"
   ]
  },
  {
   "cell_type": "code",
   "execution_count": 16,
   "metadata": {},
   "outputs": [
    {
     "name": "stdout",
     "output_type": "stream",
     "text": [
      "[  5.29954471e+16   8.43696561e+15   1.98940513e+15]\n"
     ]
    }
   ],
   "source": [
    "#Para un k suficientemente grande\n",
    "#El autovalor dominante es el primero, l[0]\n",
    "\n",
    "k=500\n",
    "Ek= c[0]*(l[0]**k)*v1 \n",
    "print(Ek)"
   ]
  },
  {
   "cell_type": "markdown",
   "metadata": {},
   "source": [
    "- Otro ejercicio de la matriz de Leslie"
   ]
  },
  {
   "cell_type": "code",
   "execution_count": 21,
   "metadata": {},
   "outputs": [
    {
     "name": "stdout",
     "output_type": "stream",
     "text": [
      "[ 73.  60.  51.]\n",
      "[ 73.5  43.8  51. ]\n",
      "[ 60.54  44.1   37.23]\n",
      "[ 53.895  36.324  37.485]\n"
     ]
    }
   ],
   "source": [
    "A= np.array( [[0, 80./100, 50./100],[60./100, 0, 0],[0,85/100, 0] ] )\n",
    "E0=np.array( [100, 60,50] )\n",
    "for k in range(0, 4):\n",
    "    Ek= A @ E0\n",
    "    E0=Ek\n",
    "    print(Ek)"
   ]
  },
  {
   "cell_type": "code",
   "execution_count": 22,
   "metadata": {},
   "outputs": [
    {
     "name": "stdout",
     "output_type": "stream",
     "text": [
      "autovalores=  [ 0.87778377+0.j         -0.43889188+0.31285501j -0.43889188-0.31285501j]\n"
     ]
    }
   ],
   "source": [
    "import numpy.linalg as lg\n",
    "l,P=lg.eig(A)\n",
    "print(\"autovalores= \", l)"
   ]
  },
  {
   "cell_type": "code",
   "execution_count": 23,
   "metadata": {},
   "outputs": [
    {
     "name": "stdout",
     "output_type": "stream",
     "text": [
      "[ 0.87778377  0.53898455  0.53898455]\n"
     ]
    }
   ],
   "source": [
    "print( np.abs(l)) #calculamos el modulo.. El primer autovalor es el dominante"
   ]
  },
  {
   "cell_type": "code",
   "execution_count": 24,
   "metadata": {},
   "outputs": [
    {
     "name": "stdout",
     "output_type": "stream",
     "text": [
      "0.877783769562\n"
     ]
    }
   ],
   "source": [
    "l1=l[0].real\n",
    "print(l1)"
   ]
  },
  {
   "cell_type": "code",
   "execution_count": null,
   "metadata": {},
   "outputs": [],
   "source": []
  }
 ],
 "metadata": {
  "kernelspec": {
   "display_name": "Python 3",
   "language": "python",
   "name": "python3"
  },
  "language_info": {
   "codemirror_mode": {
    "name": "ipython",
    "version": 3
   },
   "file_extension": ".py",
   "mimetype": "text/x-python",
   "name": "python",
   "nbconvert_exporter": "python",
   "pygments_lexer": "ipython3",
   "version": "3.6.9"
  }
 },
 "nbformat": 4,
 "nbformat_minor": 2
}
