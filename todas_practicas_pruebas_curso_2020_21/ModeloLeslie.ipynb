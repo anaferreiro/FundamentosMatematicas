{
 "cells": [
  {
   "cell_type": "code",
   "execution_count": 4,
   "metadata": {},
   "outputs": [
    {
     "name": "stdout",
     "output_type": "stream",
     "text": [
      "k=  0   Ek=  [ 600.    0.   24.]\n",
      "k=  1   Ek=  [  72.   102.     1.2]\n"
     ]
    }
   ],
   "source": [
    "import numpy as np\n",
    "A=np.array( [ [0,6,3],[17./100, 0, 0 ],[0, 24/100., 5./100]] )\n",
    "E0=np.array([0,100.,0])\n",
    "Ek=E0\n",
    "for k in range(0, 2):\n",
    "    Ek1=A@Ek\n",
    "    Ek=Ek1\n",
    "    print(\"k= \", k, \"  Ek= \" ,Ek)"
   ]
  },
  {
   "cell_type": "code",
   "execution_count": 8,
   "metadata": {},
   "outputs": [
    {
     "name": "stdout",
     "output_type": "stream",
     "text": [
      "[ 1.06782775 -0.94723866 -0.07058909]\n",
      "[[-0.98688539  0.98338607  0.18326724]\n",
      " [-0.15711384 -0.17648734 -0.44136324]\n",
      " [-0.03704686  0.04247425  0.87841426]]\n",
      "[-0.98688539 -0.15711384 -0.03704686] [ 0.98338607 -0.17648734  0.04247425] [ 0.18326724 -0.44136324  0.87841426]\n"
     ]
    }
   ],
   "source": [
    "#Autovalores y autovectores\n",
    "import numpy.linalg as lg\n",
    "l,P=lg.eig(A)\n",
    "print(l)\n",
    "print(P) #Las columnas de P son los autovectores\n",
    "v1=P[:,0]\n",
    "v2=P[:,1]\n",
    "v3=P[:,2]\n",
    "print(v1,v2,v3)"
   ]
  },
  {
   "cell_type": "code",
   "execution_count": 10,
   "metadata": {},
   "outputs": [
    {
     "name": "stdout",
     "output_type": "stream",
     "text": [
      "[ -8.88178420e-16  -8.32667268e-17  -3.46944695e-17]\n",
      "[  2.22044605e-16  -5.55111512e-17  -6.93889390e-18]\n",
      "[  7.28583860e-17  -1.11022302e-16  -6.93889390e-18]\n"
     ]
    }
   ],
   "source": [
    "#Comprobación de que son autovectores (es una mera comprobación)\n",
    "print( A@v1 - l[0]*v1)\n",
    "print( A@v2 - l[1]*v2)\n",
    "print( A@v3 - l[2]*v3)"
   ]
  },
  {
   "cell_type": "code",
   "execution_count": 13,
   "metadata": {},
   "outputs": [
    {
     "name": "stdout",
     "output_type": "stream",
     "text": [
      "[-301.55766845 -302.99089355    1.93251167]\n",
      "[-301.55766845 -302.99089355    1.93251167]\n"
     ]
    }
   ],
   "source": [
    "#Calculamos las cosntantes\n",
    "c=lg.solve(P,E0)\n",
    "print(c)\n",
    "#También vale\n",
    "c=lg.inv(P)@E0\n",
    "print(c)"
   ]
  },
  {
   "cell_type": "code",
   "execution_count": 18,
   "metadata": {},
   "outputs": [
    {
     "name": "stdout",
     "output_type": "stream",
     "text": [
      "[ 7437.37440329  1176.95602021   279.31114824]\n"
     ]
    }
   ],
   "source": [
    "N=50\n",
    "for k in range(0,N):\n",
    "    E=c[0]*l[0]**k*v1 + c[1]*l[1]**k*v2+ c[2]*l[2]**k*v1\n",
    "    E1,E2,E3=E\n",
    "print(E)"
   ]
  },
  {
   "cell_type": "code",
   "execution_count": 23,
   "metadata": {},
   "outputs": [
    {
     "data": {
      "image/png": "[encoded data removed]",
      "text/plain": [
       "<matplotlib.figure.Figure at 0x7f0b45617828>"
      ]
     },
     "metadata": {},
     "output_type": "display_data"
    }
   ],
   "source": [
    "N=100\n",
    "E1=np.array([])\n",
    "E2=np.array([])\n",
    "E3=np.array([])\n",
    "for k in range(0,N):\n",
    "    E=c[0]*l[0]**k*v1 #+ c[1]*l[1]**k*v2+ c[2]*l[2]**k*v1\n",
    "    E1=np.append(E1,E[0])\n",
    "    E2=np.append(E2,E[1])\n",
    "    E3=np.append(E3,E[2])\n",
    "%matplotlib inline\n",
    "import matplotlib.pyplot as plt\n",
    "plt.plot(range(0,N),E1,'--', label='E1')\n",
    "plt.plot(range(0,N),E2,':', label='E2')\n",
    "plt.plot(range(0,N),E3,'--', label='E3')\n",
    "plt.ylabel('Evolucion de la población')\n",
    "plt.legend()\n",
    "plt.show()"
   ]
  },
  {
   "cell_type": "code",
   "execution_count": null,
   "metadata": {},
   "outputs": [],
   "source": []
  }
 ],
 "metadata": {
  "kernelspec": {
   "display_name": "Python 3",
   "language": "python",
   "name": "python3"
  },
  "language_info": {
   "codemirror_mode": {
    "name": "ipython",
    "version": 3
   },
   "file_extension": ".py",
   "mimetype": "text/x-python",
   "name": "python",
   "nbconvert_exporter": "python",
   "pygments_lexer": "ipython3",
   "version": "3.6.9"
  }
 },
 "nbformat": 4,
 "nbformat_minor": 2
}
