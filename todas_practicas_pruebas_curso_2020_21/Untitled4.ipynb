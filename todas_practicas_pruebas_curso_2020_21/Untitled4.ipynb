{
 "cells": [
  {
   "cell_type": "code",
   "execution_count": 5,
   "metadata": {},
   "outputs": [
    {
     "name": "stdout",
     "output_type": "stream",
     "text": [
      "0.3749999999999999\n",
      "0.375\n"
     ]
    }
   ],
   "source": [
    "suma=0\n",
    "N=100\n",
    "for k in range(1,N):\n",
    "    ak=(-1)**(k+1)*(3./5.)**k\n",
    "    suma+=ak\n",
    "print(suma)\n",
    "print(3./8.)"
   ]
  },
  {
   "cell_type": "code",
   "execution_count": null,
   "metadata": {},
   "outputs": [],
   "source": []
  }
 ],
 "metadata": {
  "kernelspec": {
   "display_name": "Python 3",
   "language": "python",
   "name": "python3"
  },
  "language_info": {
   "codemirror_mode": {
    "name": "ipython",
    "version": 3
   },
   "file_extension": ".py",
   "mimetype": "text/x-python",
   "name": "python",
   "nbconvert_exporter": "python",
   "pygments_lexer": "ipython3",
   "version": "3.6.9"
  }
 },
 "nbformat": 4,
 "nbformat_minor": 2
}
