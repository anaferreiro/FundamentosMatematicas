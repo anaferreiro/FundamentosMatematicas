{
 "cells": [
  {
   "cell_type": "code",
   "execution_count": 1,
   "metadata": {},
   "outputs": [
    {
     "name": "stdout",
     "output_type": "stream",
     "text": [
      "[-4.47213595499958, 4.47213595499958]\n",
      "1.67705098312484*pi\n",
      "-1.67705098312484*pi\n"
     ]
    }
   ],
   "source": [
    "import sympy as sp\n",
    "x=sp.symbols('x')\n",
    "f=(15*sp.pi*x)/4. - (sp.pi*x**3)/16\n",
    "df=sp.diff(f,x)\n",
    "pc=sp.solve(df,x)\n",
    "print(pc)\n",
    "df2=sp.diff(df,x)\n",
    "print(df2.subs(x,pc[0]))\n",
    "print(df2.subs(x,pc[1]))"
   ]
  },
  {
   "cell_type": "code",
   "execution_count": 2,
   "metadata": {},
   "outputs": [
    {
     "name": "stdout",
     "output_type": "stream",
     "text": [
      "-4.47213595499958 -3.552713678800501e-15 5.268611048280545\n"
     ]
    }
   ],
   "source": [
    "g=sp.lambdify(x,df)\n",
    "dg=sp.lambdify(x,df2)\n",
    "x0=-1\n",
    "for k in range(0,11):\n",
    "    x1=x0-g(x0)/dg(x0)\n",
    "    x0=x1\n",
    "print(x1,g(x1),dg(x1))  #aproximo el minimo relativo"
   ]
  },
  {
   "cell_type": "code",
   "execution_count": 3,
   "metadata": {},
   "outputs": [
    {
     "name": "stdout",
     "output_type": "stream",
     "text": [
      "4.47213595499958 -3.552713678800501e-15 -5.268611048280545\n"
     ]
    }
   ],
   "source": [
    "x0=5\n",
    "for k in range(0,11):\n",
    "    x1=x0-g(x0)/dg(x0)\n",
    "    x0=x1\n",
    "print(x1,g(x1),dg(x1))  #aproximo un máximo relativo"
   ]
  },
  {
   "cell_type": "code",
   "execution_count": 4,
   "metadata": {},
   "outputs": [
    {
     "name": "stdout",
     "output_type": "stream",
     "text": [
      "Valor aproximado 0.728940645699886\n",
      "error= 6.91918053339347e-6\n"
     ]
    },
    {
     "data": {
      "image/png": "[encoded data removed]",
      "text/plain": [
       "<matplotlib.figure.Figure at 0x7f5800048d30>"
      ]
     },
     "metadata": {},
     "output_type": "display_data"
    }
   ],
   "source": [
    "f=sp.cos(sp.pi*x/2)- (sp.pi**2*x**2)/8\n",
    "#df=sp.diff(f,x)\n",
    "#print(df)\n",
    "#pc=sp.solve(df)\n",
    "#print(\"ptos criticos= \",pc)\n",
    "a=0.5\n",
    "p=sp.series(f,x,a,5)\n",
    "p=p.removeO()\n",
    "b=1./3.\n",
    "aprox=p.subs(x,b)\n",
    "print(\"Valor aproximado\",aprox.evalf())\n",
    "error=sp.Abs(p.subs(x,b)- f.subs(x,b))\n",
    "print(\"error=\", error.evalf() )\n",
    "from sympy.plotting import plot\n",
    "fig1=plot(f,show=False,xlim=(-2,3),ylim=(-10,2),line_color='blue')\n",
    "fig2=plot(p,show=False,line_color='red')\n",
    "fig1.extend(fig2)\n",
    "%matplotlib inline\n",
    "fig1.show()"
   ]
  },
  {
   "cell_type": "code",
   "execution_count": null,
   "metadata": {},
   "outputs": [],
   "source": []
  }
 ],
 "metadata": {
  "kernelspec": {
   "display_name": "Python 3",
   "language": "python",
   "name": "python3"
  },
  "language_info": {
   "codemirror_mode": {
    "name": "ipython",
    "version": 3
   },
   "file_extension": ".py",
   "mimetype": "text/x-python",
   "name": "python",
   "nbconvert_exporter": "python",
   "pygments_lexer": "ipython3",
   "version": "3.6.9"
  }
 },
 "nbformat": 4,
 "nbformat_minor": 2
}
