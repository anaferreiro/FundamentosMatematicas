{
 "cells": [
  {
   "cell_type": "code",
   "execution_count": 23,
   "metadata": {},
   "outputs": [
    {
     "name": "stdout",
     "output_type": "stream",
     "text": [
      "(x+x**(-4/5))**2\n",
      "-5*2**(2/5)/6 + 7/3 + 10*2**(1/5)/3\n",
      "-5*2**(2/5)/6 + 7/3 + 10*2**(1/5)/3\n"
     ]
    }
   ],
   "source": [
    "import sympy as sp\n",
    "x=sp.symbols('x')\n",
    "f=(x+x**(-sp.Rational(4,5)))**2\n",
    "f=(x+x**(-sp.S(4)/5))**2\n",
    "f='(x+x**(-4/5))**2'\n",
    "\n",
    "print(f)\n",
    "I=sp.integrate(f,(x,1,2),manual=True)\n",
    "print(I)\n",
    "I=sp.integrate('(x+x**(-4/5))**2',(x,1,2),manual=True)\n",
    "print(I)"
   ]
  },
  {
   "cell_type": "code",
   "execution_count": null,
   "metadata": {},
   "outputs": [],
   "source": []
  },
  {
   "cell_type": "code",
   "execution_count": null,
   "metadata": {},
   "outputs": [],
   "source": []
  }
 ],
 "metadata": {
  "kernelspec": {
   "display_name": "Python 3",
   "language": "python",
   "name": "python3"
  },
  "language_info": {
   "codemirror_mode": {
    "name": "ipython",
    "version": 3
   },
   "file_extension": ".py",
   "mimetype": "text/x-python",
   "name": "python",
   "nbconvert_exporter": "python",
   "pygments_lexer": "ipython3",
   "version": "3.6.9"
  }
 },
 "nbformat": 4,
 "nbformat_minor": 2
}
