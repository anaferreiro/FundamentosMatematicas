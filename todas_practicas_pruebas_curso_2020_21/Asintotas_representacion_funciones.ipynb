{
 "cells": [
  {
   "cell_type": "markdown",
   "metadata": {},
   "source": [
    "# Cálculo de Asíntotas\n",
    "Empleamos el paquete (la librería) Sympy de Python, para trabajar en cálculo simbólico."
   ]
  },
  {
   "cell_type": "markdown",
   "metadata": {},
   "source": [
    "Trabajaremos con la función:\n",
    "$$\n",
    "\\displaystyle\n",
    "f(x)=\\frac{x^3-27}{2x^2-4}\n",
    "$$"
   ]
  },
  {
   "cell_type": "code",
   "execution_count": 8,
   "metadata": {},
   "outputs": [],
   "source": [
    "import sympy as sp #asociamos el alias sp al paquete sympy\n",
    "x=sp.symbols('x') #la variable x será un tipo simbólico"
   ]
  },
  {
   "cell_type": "markdown",
   "metadata": {},
   "source": [
    "Buscamos las asíntotas horizontales en los puntos donde se anula el denominador: $2x^2-4$\n",
    "Usamos el método ${\\tt solve}$ de ${\\tt Sympy}$, para hallar dichas raíces."
   ]
  },
  {
   "cell_type": "code",
   "execution_count": 9,
   "metadata": {},
   "outputs": [
    {
     "name": "stdout",
     "output_type": "stream",
     "text": [
      "[-sqrt(2), sqrt(2)]\n"
     ]
    }
   ],
   "source": [
    "d=sp.solve(2*x**2-4,x)  #la variable \"d\" es una lista\n",
    "print(d) #tiene dos raíces"
   ]
  },
  {
   "cell_type": "markdown",
   "metadata": {},
   "source": [
    "- Usamos el método ${\\tt limit}$ para calcular los límites de la función $f$.\n",
    "- La función $f$ tiene dos asíntotas horizontales\n",
    "- En ambos casos el valor del límite es $oo$, que es una varialbe de Sympy para representar $\\infty$ "
   ]
  },
  {
   "cell_type": "code",
   "execution_count": 10,
   "metadata": {},
   "outputs": [
    {
     "name": "stdout",
     "output_type": "stream",
     "text": [
      "oo -oo\n"
     ]
    }
   ],
   "source": [
    "f= (x**3 - 27)/(2*x**2-4)  #función de Sympy, porque estamos usamos la variable simbólica \"x\"\n",
    "l1=sp.limit(f,x,d[0])\n",
    "l2=sp.limit(f,x,d[1])\n",
    "print(l1, l2)"
   ]
  },
  {
   "cell_type": "markdown",
   "metadata": {},
   "source": [
    "- Calculamos las asíntoas oblícuas: $y=mx+n$"
   ]
  },
  {
   "cell_type": "code",
   "execution_count": 11,
   "metadata": {},
   "outputs": [
    {
     "name": "stdout",
     "output_type": "stream",
     "text": [
      "1/2\n",
      "0\n",
      "Asintota Oblicua: y= 1/2 x+ 0\n"
     ]
    }
   ],
   "source": [
    "m=sp.limit(f/x,x,sp.oo)\n",
    "n=sp.limit(f-m*x,x,sp.oo)\n",
    "print(m)\n",
    "print(n)\n",
    "print(\"Asintota Oblicua: y=\",m,\"x+\",n)"
   ]
  },
  {
   "cell_type": "markdown",
   "metadata": {},
   "source": [
    "- Representamos la función vía la función ${\\tt plot}$ de ${\\tt sympy.plotting}$."
   ]
  },
  {
   "cell_type": "code",
   "execution_count": 14,
   "metadata": {},
   "outputs": [
    {
     "data": {
      "image/png": "[encoded data removed]",
      "text/plain": [
       "<matplotlib.figure.Figure at 0x7f746a9bdc50>"
      ]
     },
     "metadata": {},
     "output_type": "display_data"
    }
   ],
   "source": [
    "from sympy.plotting import plot\n",
    "fig1=plot(f,xlim=(-15,15),ylim=(-20,20),show=True,line_color='blue')\n"
   ]
  },
  {
   "cell_type": "markdown",
   "metadata": {},
   "source": [
    "- Obsrvación: Para evaluar una función de Sympy en un punto basta escribir:"
   ]
  },
  {
   "cell_type": "code",
   "execution_count": 19,
   "metadata": {},
   "outputs": [
    {
     "name": "stdout",
     "output_type": "stream",
     "text": [
      "3*exp(3)/34\n"
     ]
    },
    {
     "data": {
      "text/plain": [
       "1.77225325792832"
      ]
     },
     "execution_count": 19,
     "metadata": {},
     "output_type": "execute_result"
    }
   ],
   "source": [
    "y=sp.symbols('y')\n",
    "f= sp.exp(y)*(y/(y**2+25))\n",
    "expre=f.subs(y,3)\n",
    "print(expre)\n",
    "expre.evalf()"
   ]
  },
  {
   "cell_type": "code",
   "execution_count": null,
   "metadata": {},
   "outputs": [],
   "source": []
  }
 ],
 "metadata": {
  "kernelspec": {
   "display_name": "Python 3",
   "language": "python",
   "name": "python3"
  },
  "language_info": {
   "codemirror_mode": {
    "name": "ipython",
    "version": 3
   },
   "file_extension": ".py",
   "mimetype": "text/x-python",
   "name": "python",
   "nbconvert_exporter": "python",
   "pygments_lexer": "ipython3",
   "version": "3.6.9"
  }
 },
 "nbformat": 4,
 "nbformat_minor": 2
}
