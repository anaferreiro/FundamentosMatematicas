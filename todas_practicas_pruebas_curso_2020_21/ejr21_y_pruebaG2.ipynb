{
 "cells": [
  {
   "cell_type": "code",
   "execution_count": 1,
   "metadata": {},
   "outputs": [],
   "source": [
    "import sympy as sp\n",
    "x=sp.symbols('x')\n",
    "f1=-sp.log(10)-139.3411+(1.575701*10**5)/(x+273.15)-(6.642308*10**7)/(x+273.15)**2+(1.2438*10**(10))/(x+273.15)**3-(8.621949*10**(11))/(x+273.15)**4\n",
    "#f1=-sp.log(10)-139.3411+(1.575701*10**5)/(x)-(6.642308*10**7)/(x)**2+(1.2438*10**(10))/(x)**3-(8.621949*10**(11))/(x)**4\n",
    "df1=sp.diff(f1,x)\n",
    "f=sp.lambdify(x,f1)\n",
    "df=sp.lambdify(x,df1)"
   ]
  },
  {
   "cell_type": "code",
   "execution_count": 2,
   "metadata": {},
   "outputs": [
    {
     "name": "stdout",
     "output_type": "stream",
     "text": [
      "Aproximacion= 15.5287759718 5.68434188608e-14\n"
     ]
    }
   ],
   "source": [
    "n=51\n",
    "x0=15\n",
    "for k in range(0,n):\n",
    "    x1=x0-f(x0)/df(x0)\n",
    "    x0=x1\n",
    "print(\"Aproximacion=\",x1, f(x1))"
   ]
  },
  {
   "cell_type": "code",
   "execution_count": 3,
   "metadata": {},
   "outputs": [
    {
     "name": "stdout",
     "output_type": "stream",
     "text": [
      "Aproximacion= 288.678775972 8.52651282912e-14\n",
      "15.5287759718\n"
     ]
    }
   ],
   "source": [
    "f1=-sp.log(10)-139.3411+(1.575701*10**5)/(x)-(6.642308*10**7)/(x)**2+(1.2438*10**(10))/(x)**3-(8.621949*10**(11))/(x)**4\n",
    "df1=sp.diff(f1,x)\n",
    "f=sp.lambdify(x,f1)\n",
    "df=sp.lambdify(x,df1)\n",
    "n=51\n",
    "x0=15+273.15\n",
    "for k in range(0,n):\n",
    "    x1=x0-f(x0)/df(x0)\n",
    "    x0=x1\n",
    "print(\"Aproximacion=\",x1, f(x1))\n",
    "print(x1-273.15)"
   ]
  },
  {
   "cell_type": "code",
   "execution_count": 4,
   "metadata": {},
   "outputs": [
    {
     "name": "stdout",
     "output_type": "stream",
     "text": [
      "(x - 1)**3*(-exp(2)*sin(E) + 2*E*cos(E)/3 + 1/24 - exp(3)*cos(E)/6) + (x - 1)**2*(E*cos(E) - exp(2)*sin(E)/2 - 1/8) + (x - 1)*(E*cos(E) + 1/2) + sin(E) + log(2)\n",
      "0.864000368433938\n",
      "0.863289828817901\n",
      "0.000710539616037333\n"
     ]
    }
   ],
   "source": [
    "x0=1\n",
    "f=sp.sin(sp.exp((1+x**2)/2))+ sp. log(1+x)\n",
    "p=sp.series(f,x,x0,4)\n",
    "print(p.removeO())\n",
    "p=p.removeO()\n",
    "a=1.1\n",
    "aprox=p.subs(x,a)\n",
    "val=f.subs(x,a)\n",
    "print(val.evalf())\n",
    "print(aprox.evalf())\n",
    "error=sp.Abs(aprox-val)\n",
    "print(error.evalf())"
   ]
  },
  {
   "cell_type": "code",
   "execution_count": 5,
   "metadata": {},
   "outputs": [
    {
     "data": {
      "image/png": "[encoded data removed]",
      "text/plain": [
       "<matplotlib.figure.Figure at 0x7f9269675ba8>"
      ]
     },
     "metadata": {},
     "output_type": "display_data"
    }
   ],
   "source": [
    "from sympy.plotting import plot\n",
    "fig1=plot(f,show=False,xlim=(0,1.5),ylim=(-0.5,2), line_color='blue')\n",
    "fig2=plot(p.removeO(),show=False, line_color='red')\n",
    "fig1.extend(fig2)\n",
    "%matplotlib inline\n",
    "fig1.show()"
   ]
  },
  {
   "cell_type": "code",
   "execution_count": null,
   "metadata": {},
   "outputs": [],
   "source": []
  },
  {
   "cell_type": "code",
   "execution_count": null,
   "metadata": {},
   "outputs": [],
   "source": []
  },
  {
   "cell_type": "code",
   "execution_count": null,
   "metadata": {},
   "outputs": [],
   "source": []
  }
 ],
 "metadata": {
  "kernelspec": {
   "display_name": "Python 3",
   "language": "python",
   "name": "python3"
  },
  "language_info": {
   "codemirror_mode": {
    "name": "ipython",
    "version": 3
   },
   "file_extension": ".py",
   "mimetype": "text/x-python",
   "name": "python",
   "nbconvert_exporter": "python",
   "pygments_lexer": "ipython3",
   "version": "3.6.9"
  }
 },
 "nbformat": 4,
 "nbformat_minor": 2
}
