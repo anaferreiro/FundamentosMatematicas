{
 "cells": [
  {
   "cell_type": "markdown",
   "metadata": {},
   "source": [
    "$$\n",
    "\\begin{array}{l}\n",
    "x+y+z=1\\\\x+y+2z=3\n",
    "\\end{array}\n",
    "$$"
   ]
  },
  {
   "cell_type": "code",
   "execution_count": 18,
   "metadata": {},
   "outputs": [
    {
     "name": "stdout",
     "output_type": "stream",
     "text": [
      "{(-y - 1, y, 2)}\n",
      "Matrix([[1, 1, 1], [1, 1, 2]])\n",
      "Matrix([[1], [3]])\n",
      "{(-y - 1, y, 2)}\n"
     ]
    }
   ],
   "source": [
    "import sympy as sp\n",
    "from sympy.solvers.solveset import linsolve\n",
    "x,y,z=sp.symbols('x,y,z')\n",
    "#sistema compatible indeterminado\n",
    "\n",
    "sol=sp.linsolve([x+y+z-1, x+y+2*z-3],(x,y,z))\n",
    "print(sol)\n",
    "\n",
    "#Tb vale\n",
    "A=sp.Matrix(([1,1,1],[1,1,2]))\n",
    "b=sp.Matrix( ( [1,3] )  )\n",
    "print(A)\n",
    "print(b)\n",
    "system=(A,b)\n",
    "sol=sp.linsolve(system,x,y,z)\n",
    "print(sol)\n"
   ]
  },
  {
   "cell_type": "code",
   "execution_count": 24,
   "metadata": {},
   "outputs": [
    {
     "name": "stdout",
     "output_type": "stream",
     "text": [
      "{(v, v/3, v/3, v, v)}\n"
     ]
    }
   ],
   "source": [
    "#Sistema de la reacción química \n",
    "x,y,z,u,v=sp.symbols('x,y,z,u,v')\n",
    "A=sp.Matrix( ( [1,0,-3,0,0],[1, 8 , -5, -2, 0],[1,6,-6,0,-1], [3,7,-7,-1,-2] )   )\n",
    "b=sp.Matrix( [0,0,0,0] )\n",
    "system=(A,b)\n",
    "sol=sp.linsolve(system,x,y,z,u,v)\n",
    "print(sol)"
   ]
  },
  {
   "cell_type": "code",
   "execution_count": 25,
   "metadata": {},
   "outputs": [
    {
     "name": "stdout",
     "output_type": "stream",
     "text": [
      "{(3/4, -1/20, 4/5, 7/5, 3/5, 27/20)}\n"
     ]
    }
   ],
   "source": [
    "#circuito libro\n",
    "I1,I2,I3,I4,I5,I6=sp.symbols('i1,i2,i3,i4,i5,i6')\n",
    "A=sp.Matrix( ( [20,0,0,0,0,0],[0, 0 , 10, 5, 0,0],[0,0,0,-5,-5,0], [1,-1,-1,0,0,0],[0,1,0,1,0,-1],[0,0,1,-1,1,0] )   )\n",
    "b=sp.Matrix( [15,15,-10,0,0,0] )\n",
    "system=(A,b)\n",
    "sol=sp.linsolve(system,I1,I2,I3,I4,I5,I6)\n",
    "print(sol)"
   ]
  },
  {
   "cell_type": "code",
   "execution_count": 27,
   "metadata": {},
   "outputs": [
    {
     "name": "stdout",
     "output_type": "stream",
     "text": [
      "{(6/7, 2/7, 4/7)}\n"
     ]
    }
   ],
   "source": [
    "#otro circuito\n",
    "I1,I2,I3=sp.symbols('i1,i2,i3')\n",
    "A=sp.Matrix( ( [1,-1,-1],[8, 0 , 2],[0,4,-2] )   )\n",
    "b=sp.Matrix( [0,8,0] )\n",
    "system=(A,b)\n",
    "sol=sp.linsolve(system,I1,I2,I3)\n",
    "print(sol)"
   ]
  },
  {
   "cell_type": "code",
   "execution_count": 28,
   "metadata": {},
   "outputs": [
    {
     "name": "stdout",
     "output_type": "stream",
     "text": [
      "-56\n"
     ]
    }
   ],
   "source": [
    "#Determinante vía Sympy\n",
    "print(A.det())"
   ]
  },
  {
   "cell_type": "code",
   "execution_count": null,
   "metadata": {},
   "outputs": [],
   "source": []
  }
 ],
 "metadata": {
  "kernelspec": {
   "display_name": "Python 3",
   "language": "python",
   "name": "python3"
  },
  "language_info": {
   "codemirror_mode": {
    "name": "ipython",
    "version": 3
   },
   "file_extension": ".py",
   "mimetype": "text/x-python",
   "name": "python",
   "nbconvert_exporter": "python",
   "pygments_lexer": "ipython3",
   "version": "3.8.10"
  }
 },
 "nbformat": 4,
 "nbformat_minor": 2
}
