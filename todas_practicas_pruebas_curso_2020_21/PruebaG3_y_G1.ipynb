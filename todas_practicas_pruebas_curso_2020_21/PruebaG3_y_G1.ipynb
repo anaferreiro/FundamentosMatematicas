{
 "cells": [
  {
   "cell_type": "code",
   "execution_count": 1,
   "metadata": {},
   "outputs": [
    {
     "name": "stdout",
     "output_type": "stream",
     "text": [
      "exp(sin(3)) - log(3) + (x - 1)*(4*exp(sin(3))*cos(3) - 1/3) + (x - 1)**2*(-8*exp(sin(3))*sin(3) + exp(sin(3))*cos(3) + 1/18 + 8*exp(sin(3))*cos(3)**2) + (x - 1)**3*(32*exp(sin(3))*cos(3)**3/3 - 4*exp(sin(3))*sin(3) - 1/81 + 4*exp(sin(3))*cos(3)**2 - 32*exp(sin(3))*sin(3)*cos(3) - 32*exp(sin(3))*cos(3)/3) + (x - 1)**4*(-253*exp(sin(3))*cos(3)**2/6 - 64*exp(sin(3))*sin(3)*cos(3)**2 + 8*exp(sin(3))*cos(3)**3 + 1/324 + 32*exp(sin(3))*sin(3)**2 + 61*exp(sin(3))*sin(3)/6 - 24*exp(sin(3))*sin(3)*cos(3) - 8*exp(sin(3))*cos(3) + 32*exp(sin(3))*cos(3)**4/3) + O((x - 1)**5, (x, 1))\n",
      "0.000319490556938079\n"
     ]
    },
    {
     "data": {
      "image/png": "[encoded data removed]",
      "text/plain": [
       "<matplotlib.figure.Figure at 0x7fcaa9080e48>"
      ]
     },
     "metadata": {},
     "output_type": "display_data"
    }
   ],
   "source": [
    "import sympy as sp\n",
    "x=sp.symbols('x')\n",
    "from sympy.plotting import plot\n",
    "x0=1\n",
    "f=sp.exp(sp.sin(x**2+2*x))- sp.log(2+x)\n",
    "p=sp.series(f,x,x0,5)\n",
    "print(p)\n",
    "p=p.removeO()\n",
    "a=1.1\n",
    "error=sp.Abs( f.subs(x,a) - p.subs(x,a))\n",
    "print(error.evalf())\n",
    "fig1=plot(f,show=False,xlim=(0,2),ylim=(-1,4),line_color='blue')\n",
    "fig2=plot(p,show=False, line_color='red')\n",
    "fig1.extend(fig2)\n",
    "%matplotlib inline\n",
    "fig1.show()"
   ]
  },
  {
   "cell_type": "code",
   "execution_count": 6,
   "metadata": {},
   "outputs": [
    {
     "name": "stdout",
     "output_type": "stream",
     "text": [
      "-4.89348760338659*x - 949.273960380086*(x - 1)**4 + 55.4552610793662*(x - 1)**3 + 13.2889711105313*(x - 1)**2 + 4.94643815123302\n",
      "-0.342980636345564\n",
      "-0.0213659946920987\n"
     ]
    }
   ],
   "source": [
    "f=sp.exp(sp.sin(x**2+2*x))- sp.log(2+x)\n",
    "df=sp.diff(f,x)\n",
    "df2=sp.diff(df,x)\n",
    "df3=sp.diff(df2,x)\n",
    "df4=sp.diff(df3,x)\n",
    "x0=1\n",
    "f0=f.subs(x,x0)\n",
    "df0=df.subs(x,x0)\n",
    "df20=df2.subs(x,x0)\n",
    "df30=df3.subs(x,x0)\n",
    "df40=df4.subs(x,x0)\n",
    "t0=f0.evalf()\n",
    "t1=df0.evalf()*(x-x0)\n",
    "t2=df20.evalf()*(x-x0)**2\n",
    "t3=df30.evalf()*(x-x0)**3\n",
    "t4=df40.evalf()*(x-x0)**4\n",
    "p=t0+t1+t2+t3+t4\n",
    "print(p)\n",
    "val=p.subs(x,1.1)\n",
    "print(val.evalf())\n",
    "error=f.subs(x,1.1)-p.subs(x,1.1)\n",
    "print(error.evalf())"
   ]
  },
  {
   "cell_type": "code",
   "execution_count": 2,
   "metadata": {},
   "outputs": [
    {
     "name": "stdout",
     "output_type": "stream",
     "text": [
      "[1, 4]\n",
      "-oo\n",
      "oo\n",
      "0\n"
     ]
    }
   ],
   "source": [
    "f=x/(x**2-5*x+4)\n",
    "a=sp.solve(x**2-5*x+4,x)\n",
    "print(a)\n",
    "av1=sp.limit(f,x,a[0])\n",
    "print(av1)\n",
    "av2=sp.limit(f,x,a[1])\n",
    "print(av2)\n",
    "#Tiene asintotas verticales en x=1 e x=4\n",
    "ah=sp.limit(f,x,sp.oo)\n",
    "print(ah)\n",
    "#Tiene asintota horizontal en y=0"
   ]
  },
  {
   "cell_type": "code",
   "execution_count": 3,
   "metadata": {},
   "outputs": [
    {
     "name": "stdout",
     "output_type": "stream",
     "text": [
      "[-2, 2]\n",
      "val1=  1/81\n",
      "val2=  -1\n"
     ]
    }
   ],
   "source": [
    "#extremos relativos\n",
    "df=sp.diff(f,x)\n",
    "pc=sp.solve(df,x)\n",
    "print(pc)\n",
    "#Hay dos puntos críticos\n",
    "df2=sp.diff(df,x)\n",
    "val1=df2.subs(x,pc[0])\n",
    "print(\"val1= \",val1)\n",
    "val2=df2.subs(x,pc[1])\n",
    "print(\"val2= \",val2)\n",
    "#En -2 tenemos un mínimo relativo\n",
    "#En 2 tenemos un máximo relativo\n",
    "\n",
    "#fig=plot(f,show=True) #al tener las asintotas se ve regular.. Tiene asintotas en 4 y en 1\n"
   ]
  },
  {
   "cell_type": "code",
   "execution_count": 4,
   "metadata": {},
   "outputs": [
    {
     "name": "stdout",
     "output_type": "stream",
     "text": [
      "val aprox=  -1.98910294528756    g(x1)=  0.00013563728070161568\n",
      "df2(x1)=  0.012549197808880752\n"
     ]
    }
   ],
   "source": [
    "g=sp.lambdify(x,df)\n",
    "dg=sp.lambdify(x,df2)\n",
    "x0=-3\n",
    "it=5\n",
    "for k in range(0,it):\n",
    "    x1=x0-g(x0)/dg(x0)\n",
    "    x0=x1\n",
    "print(\"val aprox= \",x1, \"   g(x1)= \", g(x1))\n",
    "print(\"df2(x1)= \", dg(x1))\n",
    "#estamos aproximando el mínimo relativo"
   ]
  },
  {
   "cell_type": "code",
   "execution_count": null,
   "metadata": {},
   "outputs": [],
   "source": []
  }
 ],
 "metadata": {
  "kernelspec": {
   "display_name": "Python 3",
   "language": "python",
   "name": "python3"
  },
  "language_info": {
   "codemirror_mode": {
    "name": "ipython",
    "version": 3
   },
   "file_extension": ".py",
   "mimetype": "text/x-python",
   "name": "python",
   "nbconvert_exporter": "python",
   "pygments_lexer": "ipython3",
   "version": "3.6.9"
  }
 },
 "nbformat": 4,
 "nbformat_minor": 2
}
