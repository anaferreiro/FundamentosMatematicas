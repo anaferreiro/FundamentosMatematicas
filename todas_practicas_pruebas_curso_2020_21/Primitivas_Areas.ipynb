{
 "cells": [
  {
   "cell_type": "markdown",
   "metadata": {},
   "source": [
    "# Integrales Indefinidas (cálculo de primitivas) e Integrales definidas"
   ]
  },
  {
   "cell_type": "markdown",
   "metadata": {},
   "source": [
    "Cálculo de la integral:\n",
    "$$\n",
    "\\displaystyle \\int \\frac{x}{x^2+2x+1}dx\n",
    "$$\n",
    "\n",
    "$$\n",
    "\\displaystyle \\int_0^2 \\frac{x}{x^2+2x+1}dx\n",
    "$$\n"
   ]
  },
  {
   "cell_type": "code",
   "execution_count": 1,
   "metadata": {},
   "outputs": [
    {
     "name": "stdout",
     "output_type": "stream",
     "text": [
      "Integral=  log(x + 1) + 1/(x + 1)\n",
      "Integral=  -2/3 + log(3)\n"
     ]
    }
   ],
   "source": [
    "import sympy as sp\n",
    "x=sp.symbols('x')\n",
    "f1=x/(x**2+2*x+1)\n",
    "I1=sp.integrate(f1,x)\n",
    "print(\"Integral= \", I1)\n",
    "I1=sp.integrate(f1,(x,0,2))\n",
    "print(\"Integral= \", I1)\n"
   ]
  },
  {
   "cell_type": "markdown",
   "metadata": {},
   "source": [
    "Cálculo de la integral\n",
    "$$\n",
    "\\displaystyle \\int x^2 e^{x}\\cos(x)dx\n",
    "$$\n",
    "\n",
    "$$\n",
    "\\displaystyle \\int_0^{2\\pi} x^2 e^{x}\\cos(x)dx\n",
    "$$\n"
   ]
  },
  {
   "cell_type": "code",
   "execution_count": 2,
   "metadata": {},
   "outputs": [
    {
     "name": "stdout",
     "output_type": "stream",
     "text": [
      "funcion=  x**2*exp(x)*cos(x)\n",
      "Integral=  x**2*exp(x)*sin(x)/2 + x**2*exp(x)*cos(x)/2 - x*exp(x)*sin(x) + exp(x)*sin(x)/2 - exp(x)*cos(x)/2\n",
      "Integral=  -exp(2*pi)/2 + 1/2 + 2*pi**2*exp(2*pi)\n"
     ]
    }
   ],
   "source": [
    "f2=x**2*sp.exp(x)*sp.cos(x)\n",
    "print(\"funcion= \",f2)\n",
    "I2=sp.integrate(f2,x)\n",
    "print(\"Integral= \", I2)\n",
    "I2=sp.integrate(f2,(x,0,2*sp.pi))\n",
    "print(\"Integral= \", I2)"
   ]
  },
  {
   "cell_type": "markdown",
   "metadata": {},
   "source": [
    "# Cálculo de áreas"
   ]
  },
  {
   "cell_type": "markdown",
   "metadata": {},
   "source": [
    "Ejemplo sacado de la página web:\n",
    "\n",
    "https://calculus-notes.readthedocs.io/en/latest/0.10_calc_area_between_curves.html\n",
    "\n"
   ]
  },
  {
   "cell_type": "markdown",
   "metadata": {},
   "source": [
    "- Ejemplo 1: Cálcular el área comprendida entre la gráfica de la función $f(x)=x^2$, el eje OX y las rectas $x=-2$ y $x=4$.\n",
    "$$\n",
    "\\int_{-2}^{4}x^2dx\n",
    "$$"
   ]
  },
  {
   "cell_type": "code",
   "execution_count": 3,
   "metadata": {},
   "outputs": [
    {
     "name": "stdout",
     "output_type": "stream",
     "text": [
      "[-2.         -1.33333333 -0.66666667  0.          0.66666667  1.33333333\n",
      "  2.          2.66666667  3.33333333  4.        ]\n",
      "[  4.           1.77777778   0.44444444   0.           0.44444444\n",
      "   1.77777778   4.           7.11111111  11.11111111  16.        ]\n",
      "Integral=  24\n"
     ]
    },
    {
     "data": {
      "image/png": "[encoded data removed]",
      "text/plain": [
       "<matplotlib.figure.Figure at 0x7f25370c1748>"
      ]
     },
     "metadata": {},
     "output_type": "display_data"
    }
   ],
   "source": [
    "import matplotlib.pyplot as plt\n",
    "import numpy as np\n",
    "%matplotlib inline\n",
    "g1=x**2\n",
    "g=sp.lambdify(x,g1)\n",
    "y=np.linspace(-2,4,10)\n",
    "print(y)\n",
    "print(g(y))\n",
    "plt.plot(y,g(y))\n",
    "plt.fill_between(y,g(y),color=\"yellow\")\n",
    "I=sp.integrate(g1,(x,-2,4))\n",
    "print(\"Integral= \",I)"
   ]
  },
  {
   "cell_type": "markdown",
   "metadata": {},
   "source": [
    "- Ejemplo 2: Calcular el área comprendida entre las gráficas de las funciones $f(x)=12-x^2$ y $g(x)=x^2-6$ "
   ]
  },
  {
   "cell_type": "code",
   "execution_count": 9,
   "metadata": {},
   "outputs": [
    {
     "name": "stdout",
     "output_type": "stream",
     "text": [
      "[-3, 3]\n",
      "Area=  72\n"
     ]
    },
    {
     "data": {
      "image/png": "[encoded data removed]",
      "text/plain": [
       "<matplotlib.figure.Figure at 0x7f2536e74320>"
      ]
     },
     "metadata": {},
     "output_type": "display_data"
    }
   ],
   "source": [
    "%matplotlib inline\n",
    "x=sp.symbols('x')\n",
    "f1=12-x**2\n",
    "g1=x**2 - 6\n",
    "#puntos de corte entre las dos gráficas\n",
    "ptos=sp.solve(f1-g1,x)\n",
    "print(ptos)\n",
    "I=sp.integrate(f1-g1,(x,ptos[0],ptos[1]))\n",
    "print(\"Area= \",I)\n",
    "from sympy.plotting import plot\n",
    "fig1=plot(f1,line_color='blue', show=False,xlim=(-5,5),ylim=(-10,15))\n",
    "fig2=plot(g1,line_color='red',show=False)\n",
    "fig1.extend(fig2)\n",
    "fig1.show()"
   ]
  },
  {
   "cell_type": "code",
   "execution_count": null,
   "metadata": {},
   "outputs": [],
   "source": []
  }
 ],
 "metadata": {
  "kernelspec": {
   "display_name": "Python 3",
   "language": "python",
   "name": "python3"
  },
  "language_info": {
   "codemirror_mode": {
    "name": "ipython",
    "version": 3
   },
   "file_extension": ".py",
   "mimetype": "text/x-python",
   "name": "python",
   "nbconvert_exporter": "python",
   "pygments_lexer": "ipython3",
   "version": "3.6.9"
  },
  "widgets": {
   "application/vnd.jupyter.widget-state+json": {
    "state": {},
    "version_major": 1,
    "version_minor": 0
   }
  }
 },
 "nbformat": 4,
 "nbformat_minor": 2
}
