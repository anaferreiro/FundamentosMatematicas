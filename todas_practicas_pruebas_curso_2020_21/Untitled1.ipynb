{
 "cells": [
  {
   "cell_type": "code",
   "execution_count": 22,
   "metadata": {},
   "outputs": [
    {
     "data": {
      "text/plain": [
       "-99*sqrt(2)*pi/10 + 18*pi"
      ]
     },
     "execution_count": 22,
     "metadata": {},
     "output_type": "execute_result"
    }
   ],
   "source": [
    "import sympy as sp\n",
    "x=sp.symbols('x')\n",
    "sp.integrate(2*sp.pi*x*(-sp.sqrt(3/sp.sqrt(2))*sp.sqrt(x) +sp.sqrt(9-x**2)),(x,0,3*sp.sqrt(2)/2))"
   ]
  },
  {
   "cell_type": "code",
   "execution_count": 20,
   "metadata": {},
   "outputs": [
    {
     "name": "stdout",
     "output_type": "stream",
     "text": [
      "-27*sqrt(2)*pi/5  ;  -9*sqrt(2)*pi/2 + 18*pi\n"
     ]
    }
   ],
   "source": [
    "import sympy as sp\n",
    "x=sp.symbols('x')\n",
    "I1=sp.integrate(2*sp.pi*x*(-sp.sqrt(3/sp.sqrt(2))*sp.sqrt(x)),(x,0,3*sp.sqrt(2)/2))\n",
    "I2=sp.integrate(2*sp.pi*x*(sp.sqrt(9-x**2)),(x,0,3*sp.sqrt(2)/2))\n",
    "print(I1,' ; ',I2)"
   ]
  },
  {
   "cell_type": "code",
   "execution_count": null,
   "metadata": {},
   "outputs": [],
   "source": []
  }
 ],
 "metadata": {
  "kernelspec": {
   "display_name": "Python 3",
   "language": "python",
   "name": "python3"
  },
  "language_info": {
   "codemirror_mode": {
    "name": "ipython",
    "version": 3
   },
   "file_extension": ".py",
   "mimetype": "text/x-python",
   "name": "python",
   "nbconvert_exporter": "python",
   "pygments_lexer": "ipython3",
   "version": "3.6.9"
  }
 },
 "nbformat": 4,
 "nbformat_minor": 2
}
