{
 "cells": [
  {
   "cell_type": "markdown",
   "metadata": {},
   "source": [
    "# Integración simbólica\n",
    "\n",
    "- Sympy dispone del método ${\\tt integrate}$, que permite calcular todo tipo de integrales\n",
    "- Para calcular la primitiva de una función basta escribir $${\\tt sp.integrate(f,x}$$\n",
    "- Para calcular la integral definida de una función $f$ en el intervalo $[a,b]$: $${\\tt sp.integrate(f,(x,a,b)}$$"
   ]
  },
  {
   "cell_type": "markdown",
   "metadata": {},
   "source": [
    "- Cálculo de las $\\textbf{Integrales Indefinidas}$ $$\\displaystyle \\int \\frac{x}{x^2 + 2x + 1}dx$$ y $$\\displaystyle \\int x^2 e^{\\cos(x)}dx$$"
   ]
  },
  {
   "cell_type": "code",
   "execution_count": 4,
   "metadata": {},
   "outputs": [],
   "source": [
    "import sympy as sp\n",
    "x=sp.symbols('x')\n",
    "f1=x/(x**2+2*x+1)\n",
    "I1=sp.integrate(f1,x) "
   ]
  },
  {
   "cell_type": "markdown",
   "metadata": {},
   "source": [
    "-I1 es una función simbólica con la siguiente expresión"
   ]
  },
  {
   "cell_type": "code",
   "execution_count": 5,
   "metadata": {},
   "outputs": [
    {
     "name": "stdout",
     "output_type": "stream",
     "text": [
      "log(x + 1) + 1/(x + 1)\n"
     ]
    }
   ],
   "source": [
    "print(I1)"
   ]
  },
  {
   "cell_type": "code",
   "execution_count": 6,
   "metadata": {},
   "outputs": [
    {
     "ename": "NameError",
     "evalue": "name 'f' is not defined",
     "output_type": "error",
     "traceback": [
      "\u001b[0;31m---------------------------------------------------------------------------\u001b[0m",
      "\u001b[0;31mNameError\u001b[0m                                 Traceback (most recent call last)",
      "\u001b[0;32m<ipython-input-6-fe2f5a4134bd>\u001b[0m in \u001b[0;36m<module>\u001b[0;34m()\u001b[0m\n\u001b[1;32m      1\u001b[0m \u001b[0mf2\u001b[0m\u001b[0;34m=\u001b[0m\u001b[0mx\u001b[0m\u001b[0;34m**\u001b[0m\u001b[0;36m2\u001b[0m \u001b[0;34m*\u001b[0m \u001b[0msp\u001b[0m\u001b[0;34m.\u001b[0m\u001b[0mexp\u001b[0m\u001b[0;34m(\u001b[0m\u001b[0mx\u001b[0m\u001b[0;34m)\u001b[0m\u001b[0;34m*\u001b[0m\u001b[0msp\u001b[0m\u001b[0;34m.\u001b[0m\u001b[0mcos\u001b[0m\u001b[0;34m(\u001b[0m\u001b[0mx\u001b[0m\u001b[0;34m)\u001b[0m\u001b[0;34m\u001b[0m\u001b[0;34m\u001b[0m\u001b[0m\n\u001b[0;32m----> 2\u001b[0;31m \u001b[0mI2\u001b[0m\u001b[0;34m=\u001b[0m\u001b[0msp\u001b[0m\u001b[0;34m.\u001b[0m\u001b[0mintegrate\u001b[0m\u001b[0;34m(\u001b[0m\u001b[0mf\u001b[0m\u001b[0;34m,\u001b[0m\u001b[0mx\u001b[0m\u001b[0;34m)\u001b[0m\u001b[0;34m\u001b[0m\u001b[0;34m\u001b[0m\u001b[0m\n\u001b[0m\u001b[1;32m      3\u001b[0m \u001b[0mprint\u001b[0m\u001b[0;34m(\u001b[0m\u001b[0mI2\u001b[0m\u001b[0;34m)\u001b[0m\u001b[0;34m\u001b[0m\u001b[0;34m\u001b[0m\u001b[0m\n",
      "\u001b[0;31mNameError\u001b[0m: name 'f' is not defined"
     ]
    }
   ],
   "source": [
    "f2=x**2 * sp.exp(x)*sp.cos(x)\n",
    "I2=sp.integrate(f,x)\n",
    "print(I2)"
   ]
  },
  {
   "cell_type": "markdown",
   "metadata": {},
   "source": [
    "- Podemos calcular $\\textbf{Integrales definidas}$, empleando el mismo comando. \n",
    "- Calculamos las integrales definidas:\n",
    "$$\\displaystyle \\int_0^2 \\frac{x}{x^2 + 2x + 1}dx$$ y $$\\displaystyle \\int_0^{2\\pi} x^2 e^{\\cos(x)}dx$$"
   ]
  },
  {
   "cell_type": "code",
   "execution_count": null,
   "metadata": {},
   "outputs": [],
   "source": [
    "I1=sp.integrate(f1,(x,0,2))\n",
    "print('I1= ', I1, \" \", I1.evalf())\n",
    "I2=sp.integrate(f2,(x,0,2*sp.pi))\n",
    "print('I2= ', I2, \" \", I2.evalf())"
   ]
  },
  {
   "cell_type": "markdown",
   "metadata": {},
   "source": [
    "- Los límites de integración también pueden ser variables"
   ]
  },
  {
   "cell_type": "code",
   "execution_count": null,
   "metadata": {},
   "outputs": [],
   "source": [
    "x=sp.symbols('x')  \n",
    "c=sp.symbols('c')  #también valdría sp.var('c)\n",
    "# podriamos haber escrito\n",
    "# x,c =sp.symbols('x c')\n",
    "sp.integrate(f1,(x,0,c))"
   ]
  },
  {
   "cell_type": "markdown",
   "metadata": {},
   "source": [
    "$\\textbf{Integrales Impropias}$\n",
    "\n",
    "- Dominio no acotado: \n",
    "$$\n",
    "\\displaystyle \\int_{-1}^{\\infty} \\frac{2x}{(2+x^2)^2}dx\n",
    "$$"
   ]
  },
  {
   "cell_type": "markdown",
   "metadata": {},
   "source": [
    "# Integración numérica\n",
    "\n",
    "$\\textbf{Método de Punto Medio Compuesto}$\n",
    "$$\n",
    "\\displaystyle \\int_{a}^b f(x)dx \\approx h \\sum_{i=1}^n f(\\hat{x}_i), \\quad h=\\frac{b-a}{n}, \\, \\hat{x}_i=\\frac{x_{i-1}+x_i}{2},\\, i=1, \\ldots, n\n",
    "$$\n",
    "$$\n",
    "\\displaystyle \\int_{a}^b f(x)dx \\approx h (f(\\hat{x}_1)+f(\\hat{x}_2) + \\ldots f(\\hat{x}_n)) , \n",
    "$$\n",
    "\n",
    "siendo $n$ el número de subintervalos en los que se divide $[a,b]$\n",
    "\n",
    "\n",
    "- Aproximaremos el valor de la integral \n",
    "$$\n",
    "\\displaystyle \\int_0^1 \\frac{x}{(x+1)(x+2)}dx\n",
    "$$\n",
    "\n",
    "- Compararemos el valor aproximado con el valor exacto de la integral "
   ]
  },
  {
   "cell_type": "code",
   "execution_count": 8,
   "metadata": {},
   "outputs": [
    {
     "name": "stdout",
     "output_type": "stream",
     "text": [
      "Integral exacta =  -3*log(2) + 2*log(3)\n",
      "xk=  [ 0.05  0.15  0.25  0.35  0.45  0.55  0.65  0.75  0.85  0.95]\n",
      "Valor aproximado =  0.117979188098\n",
      "\n",
      "Error=  0.000196152441685346\n"
     ]
    }
   ],
   "source": [
    "x=sp.symbols('x')\n",
    "f=x/((x+1)*(x+2)) #función de sympy\n",
    "Ie=sp.integrate(f,(x,0,1))\n",
    "print(\"Integral exacta = \", Ie)\n",
    "Ie=Ie.evalf() #vemos el valor de la integral\n",
    "\n",
    "#Nota: la integración numérica se hace con Numpy\n",
    "#Puesto que tenemos la función f(x) expresada como función de Sympy, tenemos que transformala \n",
    "# para poder trabajar con Numpy o Python\n",
    "g=sp.lambdify(x,f)  \n",
    "\n",
    "#Nota: Si no tenemos la función creada vía Sympy, podemos escribir una función usuar\n",
    "#g=lambda x:x/((x+1)*(x+2))\n",
    "\n",
    "#Vamos a aplicar la función \"g\" a todos los elementos de una lista, para ello hay que vectorizarla\n",
    "\n",
    "import numpy as np\n",
    "g=np.vectorize(g) \n",
    "\n",
    "a=0.\n",
    "b=1.\n",
    "n=10\n",
    "dx=(b-a)/n\n",
    "xk=np.arange(a+dx/2,b,dx)\n",
    "print(\"xk= \",xk)\n",
    "Ia=dx*sum(g(xk))  #el método sum, suma todos los elementos de una lista o un array\n",
    "print(\"Valor aproximado = \", Ia)\n",
    "print()\n",
    "error=np.abs(Ia-Ie)\n",
    "print(\"Error= \", error)\n"
   ]
  },
  {
   "cell_type": "markdown",
   "metadata": {},
   "source": [
    "- Aproximaremos el valor de la integral\n",
    "$$\n",
    "\\displaystyle \\int_0^{10}  e^{-\\frac{x^2}{2}}dx\n",
    "$$\n",
    "cuya primitiva no se puede calcular."
   ]
  },
  {
   "cell_type": "code",
   "execution_count": null,
   "metadata": {},
   "outputs": [],
   "source": [
    "import numpy as np\n",
    "f=lambda x: np.exp(-x**2/2)\n",
    "a=0.\n",
    "b=10.\n",
    "n=6\n",
    "dx=(b-a)/n\n",
    "x=np.arange(a+dx/2,b,dx)\n"
   ]
  },
  {
   "cell_type": "markdown",
   "metadata": {},
   "source": [
    "$\\textbf{Método de Trapecio Compuesto}$\n",
    "\n",
    "- Para aproximar la integral $\\displaystyle \\int_{a}^b f(x)dx$, subdividimos el intervalo en $n$ subintervalos\n",
    "\n",
    "$$\n",
    "\\displaystyle \\int_{a}^b f(x) dx \\approx \\frac{h}{2} \\left( f(x_0) + 2 f(x_1) + \\ldots + 2f(x_{n-1}) + f(x_n)\\right)\n",
    "$$\n",
    "\n",
    "con $\\displaystyle h=\\frac{b-a}{n}$, $x_i=x_0+i\\,h$, $i=1,\\ldots, n$.\n",
    "\n",
    "- Aproximaremos el valor de la integral\n",
    "$$\n",
    "\\displaystyle \\int_0^{10}  e^{-\\frac{x^2}{2}}dx\n",
    "$$\n",
    "cuya primitiva no se puede calcular."
   ]
  },
  {
   "cell_type": "code",
   "execution_count": 10,
   "metadata": {},
   "outputs": [
    {
     "name": "stdout",
     "output_type": "stream",
     "text": [
      " Aproximación (método trapecio) =  1.25331414402\n"
     ]
    }
   ],
   "source": [
    "import numpy as np\n",
    "f=lambda x: np.exp(-x**2/2.)\n",
    "#Nota: El método vectorize se utiliza sólo cuando la función no actúa directamente sobre arryas de numpy\n",
    "\n",
    "a=0.\n",
    "b=10.\n",
    "n=10\n",
    "\n",
    "dx=(b-a)/n\n",
    "x=np.linspace(a,b,n+1)\n",
    "y=2.*f(x)\n",
    "y[0]=f(x[0])\n",
    "y[n]=f(x[n])\n",
    "\n",
    "Ia=dx/2.*sum(y)\n",
    "print(\" Aproximación (método trapecio) = \", Ia)"
   ]
  },
  {
   "cell_type": "markdown",
   "metadata": {},
   "source": [
    "- Podemos implementar el método del trapecio en una función, de este modo nos queda un código más reutilizable"
   ]
  },
  {
   "cell_type": "code",
   "execution_count": 12,
   "metadata": {},
   "outputs": [
    {
     "name": "stdout",
     "output_type": "stream",
     "text": [
      " Aproximación (método trapecio) =  1.25331414402\n"
     ]
    }
   ],
   "source": [
    "import numpy as np\n",
    "\n",
    "def trap(f,a,b,n):\n",
    "    dx=(b-a)/n\n",
    "    x=np.linspace(a,b,n+1)\n",
    "    y=2.*f(x)\n",
    "    y[0]=f(x[0])\n",
    "    y[n]=f(x[n])\n",
    "    Ia=dx/2.*sum(y)\n",
    "    return Ia\n",
    "\n",
    "f=lambda x: np.exp(-x**2/2.)\n",
    "a=0.\n",
    "b=10.\n",
    "n=10\n",
    "Ia=trap(f,a,b,n)\n",
    "print(\" Aproximación (método trapecio) = \", Ia)"
   ]
  },
  {
   "cell_type": "code",
   "execution_count": null,
   "metadata": {},
   "outputs": [],
   "source": []
  }
 ],
 "metadata": {
  "kernelspec": {
   "display_name": "Python 3",
   "language": "python",
   "name": "python3"
  },
  "language_info": {
   "codemirror_mode": {
    "name": "ipython",
    "version": 3
   },
   "file_extension": ".py",
   "mimetype": "text/x-python",
   "name": "python",
   "nbconvert_exporter": "python",
   "pygments_lexer": "ipython3",
   "version": "3.6.9"
  }
 },
 "nbformat": 4,
 "nbformat_minor": 2
}
