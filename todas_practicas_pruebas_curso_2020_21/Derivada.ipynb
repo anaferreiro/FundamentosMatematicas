{
 "cells": [
  {
   "cell_type": "markdown",
   "metadata": {},
   "source": [
    "# Derivación Simbólica\n",
    "- Sympy nos permite calcular la derivada de funciones de una variable mediante el método \n",
    "${\\tt sp.diff(x)}$\n"
   ]
  },
  {
   "cell_type": "markdown",
   "metadata": {},
   "source": [
    "- Calcularemos la derida de la función\n",
    "$$\n",
    "f(x)=\\sin(x)\n",
    "$$"
   ]
  },
  {
   "cell_type": "code",
   "execution_count": 1,
   "metadata": {},
   "outputs": [
    {
     "name": "stdout",
     "output_type": "stream",
     "text": [
      "cos(x)\n"
     ]
    }
   ],
   "source": [
    "import sympy as sp #asociamos el alias sp al paquete sympy\n",
    "x=sp.symbols('x') #la variable x será un tipo simbólico\n",
    "f=sp.sin(x)\n",
    "df=sp.diff(f,x)  #la variable df almacena un objeto función de Sympy\n",
    "print(df)"
   ]
  },
  {
   "cell_type": "markdown",
   "metadata": {},
   "source": [
    "- Cálculo de la derivada de la función \n",
    "$$\n",
    "\\displaystyle f(x)=e^{x^2}- \\ln \\left(\\sqrt{(x^2-5)^3} \\right) \n",
    "$$"
   ]
  },
  {
   "cell_type": "code",
   "execution_count": 2,
   "metadata": {},
   "outputs": [
    {
     "name": "stdout",
     "output_type": "stream",
     "text": [
      "2*x*exp(x**2) - 3*x/(x**2 - 5)\n"
     ]
    }
   ],
   "source": [
    "f=sp.exp(x**2)- sp.log(sp.sqrt( (x**2-5)**3 ))\n",
    "df=sp.diff(f,x)\n",
    "print(df)\n",
    "                       "
   ]
  },
  {
   "cell_type": "markdown",
   "metadata": {},
   "source": [
    "# Método de Newton\n",
    "- El método de Newton es una técnica numérica para aproximar raíces de ecuaciones $f(x)=0$\n",
    "- $x_0$ dado\n",
    "- $\\displaystyle  x_{k+1}=x_k -\\frac{f(x_k)}{f'(x_k)}$\n"
   ]
  },
  {
   "cell_type": "markdown",
   "metadata": {},
   "source": [
    "- Usamos la librería ${\\tt Numpy}$\n",
    "- Nota: No estamos trabajando en cálculo simbólico"
   ]
  },
  {
   "cell_type": "code",
   "execution_count": 3,
   "metadata": {},
   "outputs": [
    {
     "name": "stdout",
     "output_type": "stream",
     "text": [
      "x1=  2.01112533718\n",
      "x2=  1.04572884912\n",
      "x3=  0.0673842297177\n"
     ]
    }
   ],
   "source": [
    "import numpy as np\n",
    "f= lambda x: np.exp(x) - 1./x\n",
    "df=lambda x: np.exp(x) - 1./x**2\n",
    "\n",
    "def newton(xk):\n",
    "    return xk-f(xk)/df(xk)\n",
    "\n",
    "x0=3.\n",
    "x1=newton(x0)\n",
    "print('x1= ', x1)\n",
    "x2=newton(x1)\n",
    "print('x2= ', x2)\n",
    "x3=newton(x2)\n",
    "print('x3= ', x3)\n"
   ]
  },
  {
   "cell_type": "markdown",
   "metadata": {},
   "source": [
    "- Este proceso se puede repetir en un Bucle ${\\tt for}$ con el método ${\\tt range}$\n",
    "- ${\\tt range(val\\_min, val\\_max, step)}$: crea una lista de elementos equiespaciados, con paso ${\\tt step}$, que empieza en ${\\tt val\\_min}$ hasta ${\\tt val\\_max-step}$"
   ]
  },
  {
   "cell_type": "code",
   "execution_count": 4,
   "metadata": {},
   "outputs": [
    {
     "name": "stdout",
     "output_type": "stream",
     "text": [
      "0\n",
      "1\n",
      "2\n",
      "3\n",
      "4\n"
     ]
    }
   ],
   "source": [
    "for i in range(0,5):#paso 1\n",
    "    print(i)"
   ]
  },
  {
   "cell_type": "code",
   "execution_count": 5,
   "metadata": {},
   "outputs": [
    {
     "name": "stdout",
     "output_type": "stream",
     "text": [
      "-5\n",
      "-3\n",
      "-1\n",
      "1\n",
      "3\n"
     ]
    }
   ],
   "source": [
    "for i in range(-5,5,2): #paso 2\n",
    "    print(i)"
   ]
  },
  {
   "cell_type": "code",
   "execution_count": 6,
   "metadata": {},
   "outputs": [
    {
     "name": "stdout",
     "output_type": "stream",
     "text": [
      "xk=  2.01112533718\n",
      "xk=  1.04572884912\n",
      "xk=  0.0673842297177\n",
      "xk=  0.00455196025838\n",
      "xk=  2.07205581709e-05\n"
     ]
    }
   ],
   "source": [
    "xk=3.\n",
    "n=5 #numero de iteraciones\n",
    "for k in range(0,n): # El bucle va desde 0 hasta n-1\n",
    "    xk1=newton(xk)\n",
    "    xk=xk1\n",
    "    print('xk= ', xk)"
   ]
  },
  {
   "cell_type": "markdown",
   "metadata": {},
   "source": [
    "- $\\textbf{Observación}:$ Podemos convertir una función simbólica (de Sympy) a una función de tipo numérico (de NumPy)\n",
    "- Para ello tenemos que usar el método ${\\tt lambdify}$ de Sympy"
   ]
  },
  {
   "cell_type": "code",
   "execution_count": 7,
   "metadata": {},
   "outputs": [
    {
     "name": "stdout",
     "output_type": "stream",
     "text": [
      "x1= 2.02200585185\n"
     ]
    }
   ],
   "source": [
    "x=sp.symbols('x')\n",
    "f1=sp.exp(x)-1/x\n",
    "df1=sp.diff(f1,x)\n",
    "\n",
    "# f1 y df1 son objetos de Sympy (simbólico)\n",
    "# Convertimos dichos objetos a funciones de Numpy\n",
    "\n",
    "f=sp.lambdify(x,f1,\"numpy\")\n",
    "df=sp.lambdify(x,df1,\"numpy\")\n",
    "\n",
    "x0=3.\n",
    "x1=newton(x0)\n",
    "print(\"x1=\", x1)"
   ]
  },
  {
   "cell_type": "markdown",
   "metadata": {},
   "source": [
    "# Polinomio de Taylor\n",
    "- Calcular el polinomio de Taylor de grado n asociado a la función $f(x)$ y centrado en el punto $x_0$\n",
    "- $\\displaystyle p_{n,x_0}(x)=f(x_0)+\\frac{f'(x_0)}{1!}(x-x_0)+\\frac{f''(x_0)}{2!}(x-x_0)^2+  \\frac{f^{(3}(x_0)}{3!}(x-x_0)^3+ \\ldots + \\frac{f^{(n}(x_0)}{n!}(x-x_0)^n$\n",
    "- El polinomio de Taylor es una aproximación local de la función $f$ en un entorno del punto $x_0$ \n",
    "- Usaremos el método ${\\tt series}$ de ${\\tt Sympy}$ para calcular el polinomio de Taylor\n",
    "\n",
    "- Calcularemos el polinomio de Taylor de grado $n$ asociado a la función $\\sin(x)$ y centrada en $x_0=0$ (polinomio de McLaurin)\n",
    "\n",
    "- $\\textbf{Ejemplo 1}$: Calcular el polinomio de McLaurin de grado $3$ y $4$, centrado en $x_0=0$, de la función $f(x)=\\sin(x)$ "
   ]
  },
  {
   "cell_type": "code",
   "execution_count": 8,
   "metadata": {},
   "outputs": [
    {
     "name": "stdout",
     "output_type": "stream",
     "text": [
      "x + O(x**3)\n",
      "x - x**3/6 + O(x**4)\n"
     ]
    }
   ],
   "source": [
    "import sympy as sp  #si lo tenemos importado/cargado, no hay que volver a importarlo\n",
    "x=sp.symbols('x')\n",
    "f=sp.sin(x)  \n",
    "x0=0\n",
    "n=3 #grado\n",
    "p3=sp.series(f,x,x0,n)\n",
    "print(p3)\n",
    "n=4\n",
    "p4=sp.series(f,x,x0,n)\n",
    "print(p4)\n",
    "\n"
   ]
  },
  {
   "cell_type": "markdown",
   "metadata": {},
   "source": [
    "- Los polinomios de Taylor, son devueltos con la indicación del orden de aproximación final \n",
    "$p_4=x-\\frac{1}{6}x^3+ \\mathcal{O}(x^4)$\n",
    "- Si queremos eliminar la indicación de orden, basta teclear ${\\tt p4.removeO()}$"
   ]
  },
  {
   "cell_type": "code",
   "execution_count": 9,
   "metadata": {},
   "outputs": [
    {
     "name": "stdout",
     "output_type": "stream",
     "text": [
      "-x**3/6 + x\n"
     ]
    }
   ],
   "source": [
    "print(p4.removeO())"
   ]
  },
  {
   "cell_type": "markdown",
   "metadata": {},
   "source": [
    "- Podemos representar fácilmente una función junto con sus polinomios de Taylor"
   ]
  },
  {
   "cell_type": "code",
   "execution_count": 10,
   "metadata": {},
   "outputs": [
    {
     "data": {
      "text/plain": [
       "<matplotlib.figure.Figure at 0x7fca21f7a2b0>"
      ]
     },
     "metadata": {},
     "output_type": "display_data"
    }
   ],
   "source": [
    "from sympy.plotting import plot\n",
    "f1=plot(f,show=False,line_color='blue',xlim=(-5,5),ylim=(-10,10))\n",
    "f2=plot(p3.removeO(),show=False,line_color='red')\n",
    "f3=plot(p4.removeO(),show=False, line_color='gray')\n",
    "f1.extend(f2)\n",
    "f1.extend(f3)\n",
    "f1.show()"
   ]
  },
  {
   "cell_type": "markdown",
   "metadata": {},
   "source": [
    "- $\\textbf{Ejemplo 2}$: Calcular los polinomio de Taylor de grado desde grado $2$ hasta grado $5$, centrado en $x_0=\\frac{\\pi}{4}$, de la función $\\displaystyle f(x)= d^{\\sin(x)}$"
   ]
  },
  {
   "cell_type": "code",
   "execution_count": 11,
   "metadata": {},
   "outputs": [
    {
     "name": "stdout",
     "output_type": "stream",
     "text": [
      "sqrt(2)*(x - 0.25*pi)*exp(sqrt(2)/2)/2 + exp(sqrt(2)/2)\n",
      "(x - 0.25*pi)**2*(-sqrt(2)*exp(sqrt(2)/2)/4 + exp(sqrt(2)/2)/4) + sqrt(2)*(x - 0.25*pi)*exp(sqrt(2)/2)/2 + exp(sqrt(2)/2)\n",
      "(x - 0.25*pi)**3*(-exp(sqrt(2)/2)/4 - sqrt(2)*exp(sqrt(2)/2)/24) + (x - 0.25*pi)**2*(-sqrt(2)*exp(sqrt(2)/2)/4 + exp(sqrt(2)/2)/4) + sqrt(2)*(x - 0.25*pi)*exp(sqrt(2)/2)/2 + exp(sqrt(2)/2)\n"
     ]
    }
   ],
   "source": [
    "x=sp.symbols('x')\n",
    "f=sp.exp(sp.sin(x))  \n",
    "x0=sp.pi/4.\n",
    "n=2 #grado\n",
    "p2=sp.series(f,x,x0,n)\n",
    "print(p2.removeO())\n",
    "n=3\n",
    "p3=sp.series(f,x,x0,n)\n",
    "print(p3.removeO())\n",
    "n=4\n",
    "p4=sp.series(f,x,x0,n)\n",
    "print(p4.removeO())\n",
    "\n"
   ]
  },
  {
   "cell_type": "code",
   "execution_count": 12,
   "metadata": {},
   "outputs": [
    {
     "data": {
      "image/png": "[encoded data removed]",
      "text/plain": [
       "<matplotlib.figure.Figure at 0x7fca1e8165f8>"
      ]
     },
     "metadata": {},
     "output_type": "display_data"
    }
   ],
   "source": [
    "f1=plot(f,xlim=(-7,7), ylim=(-10,10),show=False, line_color='blue')\n",
    "f2=plot(p2.removeO(),show=False, line_color='green')\n",
    "f3=plot(p3.removeO(), show=False, line_color='red')\n",
    "f4=plot(p4.removeO(),show=False, line_color='gray')\n",
    "f1.extend(f2)\n",
    "f1.extend(f3)\n",
    "f1.extend(f4)\n",
    "f1.show()"
   ]
  },
  {
   "cell_type": "code",
   "execution_count": null,
   "metadata": {},
   "outputs": [],
   "source": []
  }
 ],
 "metadata": {
  "kernelspec": {
   "display_name": "Python 3",
   "language": "python",
   "name": "python3"
  },
  "language_info": {
   "codemirror_mode": {
    "name": "ipython",
    "version": 3
   },
   "file_extension": ".py",
   "mimetype": "text/x-python",
   "name": "python",
   "nbconvert_exporter": "python",
   "pygments_lexer": "ipython3",
   "version": "3.8.10"
  }
 },
 "nbformat": 4,
 "nbformat_minor": 2
}
