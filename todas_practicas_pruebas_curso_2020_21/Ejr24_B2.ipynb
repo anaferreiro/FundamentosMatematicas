{
 "cells": [
  {
   "cell_type": "markdown",
   "metadata": {},
   "source": [
    "-Ejr 24: (Masa total que sale de un reactor)\n"
   ]
  },
  {
   "cell_type": "markdown",
   "metadata": {},
   "source": [
    "La integración propociona un medio de calcular cuánta masa entra o sale de un reactor durante un intervalo de tiempo $[t_1, t_2]$, así:\n",
    "$$\n",
    "M= \\int_{t_1}^{t_2}Q(t) c(t) dt\n",
    "$$\n",
    "donde $Q$ es el fujo y $c$ es la concentración.\n",
    "Se mide la concentración química de salida de un reactor mezclado por completo, según se recogen en la tabla (datos). Considerando un flujo de salidan constante $Q=0.3\\, m^3/s$, calcular la masa del producto químico, en gramos, que sale del reactor entre $t=0$ y $t=21$"
   ]
  },
  {
   "cell_type": "code",
   "execution_count": 10,
   "metadata": {},
   "outputs": [
    {
     "name": "stdout",
     "output_type": "stream",
     "text": [
      "8\n",
      "[ 12  44  64  90 116 150 140  48]\n",
      "3.0\n",
      "Valor de la integral=  298.8\n"
     ]
    }
   ],
   "source": [
    "import numpy as np\n",
    "Q=0.3\n",
    "t=[0,3,6,9,12,15,18,21]\n",
    "ptos=len(t)\n",
    "n=ptos-1 #número de subintervalos\n",
    "print(ptos)\n",
    "c=np.array([12,22,32,45,58,75,70,48])\n",
    "f=c\n",
    "f=2*f\n",
    "f[0]=c[0]\n",
    "f[n]=c[n]\n",
    "print (f)\n",
    "#aplicamos Trapecio\n",
    "dx=(t[n]-t[0])/n\n",
    "print(dx)\n",
    "Ia=dx/2*Q*sum(f)\n",
    "print(\"Valor de la integral= \", Ia)\n",
    "\n"
   ]
  },
  {
   "cell_type": "code",
   "execution_count": 12,
   "metadata": {},
   "outputs": [
    {
     "name": "stdout",
     "output_type": "stream",
     "text": [
      "298.79999999999995\n"
     ]
    }
   ],
   "source": [
    "#Cuentas a mano\n",
    "Ia=3/2*0.3*(12+2*(22+32+45+58+75+70)+48)\n",
    "print(Ia)"
   ]
  },
  {
   "cell_type": "code",
   "execution_count": null,
   "metadata": {},
   "outputs": [],
   "source": []
  }
 ],
 "metadata": {
  "kernelspec": {
   "display_name": "Python 3",
   "language": "python",
   "name": "python3"
  },
  "language_info": {
   "codemirror_mode": {
    "name": "ipython",
    "version": 3
   },
   "file_extension": ".py",
   "mimetype": "text/x-python",
   "name": "python",
   "nbconvert_exporter": "python",
   "pygments_lexer": "ipython3",
   "version": "3.6.9"
  }
 },
 "nbformat": 4,
 "nbformat_minor": 2
}
