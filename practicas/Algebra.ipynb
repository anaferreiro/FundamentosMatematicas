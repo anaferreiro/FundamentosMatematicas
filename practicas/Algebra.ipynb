{
 "cells": [
  {
   "cell_type": "markdown",
   "metadata": {},
   "source": [
    "# Resolución de sistemas\n",
    "\n",
    "- Para resolver sistemas usaremos el paquete ${\\tt Numpy}$\n",
    "- Para realizar ciertas operaciones con las matrices hay que usar el paquete ${\\tt linalg}$ de ${\\tt Numpy}$\n",
    "- Definimos un vector 1d y una matriz $m\\times n$ vía el método ${\\tt array}$\n",
    "- Para definir un array 1d basta indicar los términos en una lista \n",
    "- Para crear una matriz empleamos una lista de listas, donde cada lista interna contiene una fila de la matriz\n",
    "\n",
    "- Vamos a crear la matriz $A$ y el vector $b$, \n",
    "\n",
    "$$\n",
    "A=\\left( \\begin{array}{ccc}\n",
    "3& 0 & 2 \\\\ 2& 0 & -2 \\\\ 0  & 1 & 1\n",
    "\\end{array}\\right),\n",
    "\\quad\n",
    "b=\\left(\\begin{array}{l}\n",
    "1 \\\\ 2 \\\\ 4\n",
    "\\end{array}\\right)\n",
    "$$"
   ]
  },
  {
   "cell_type": "code",
   "execution_count": 1,
   "metadata": {},
   "outputs": [
    {
     "name": "stdout",
     "output_type": "stream",
     "text": [
      "A = \n",
      "  [[ 3  0  2]\n",
      " [ 2  0 -2]\n",
      " [ 0  1  1]]\n",
      "b = \n",
      "  [1 2 4]\n"
     ]
    }
   ],
   "source": [
    "import numpy as np\n",
    "A=np.array([ [3, 0, 2], [2, 0, -2], [0, 1, 1] ])\n",
    "print(\"A = \\n \", A)\n",
    "\n",
    "b=np.array( [1, 2, 4] )\n",
    "print(\"b = \\n \", b)\n"
   ]
  },
  {
   "cell_type": "markdown",
   "metadata": {},
   "source": [
    "- Podemos calcular el rango de una matriz, su traza, su determinante, la matriz traspuesta y la matriz inversa (si la hay). \n",
    "- Para alguna de estas operaciones necesitamos usar métodos de la librería ${\\tt linalg}$ de ${\\tt Numpy}$"
   ]
  },
  {
   "cell_type": "code",
   "execution_count": 2,
   "metadata": {},
   "outputs": [
    {
     "name": "stdout",
     "output_type": "stream",
     "text": [
      "rango=  3\n",
      "Traza=  4\n",
      "Determinante=  10.0\n",
      "Traspuesta de A:\n",
      " [[ 3  2  0]\n",
      " [ 0  0  1]\n",
      " [ 2 -2  1]]\n",
      "Inversa de A:  [[ 0.2  0.2  0. ]\n",
      " [-0.2  0.3  1. ]\n",
      " [ 0.2 -0.3  0. ]]\n"
     ]
    }
   ],
   "source": [
    "import numpy.linalg as la #asociamos el alias la\n",
    "\n",
    "rango=la.matrix_rank(A) #rango de la matriz\n",
    "print(\"rango= \", rango)\n",
    "\n",
    "traza=np.trace(A) #traza\n",
    "print(\"Traza= \", traza)\n",
    "\n",
    "det=la.det(A) #determinante\n",
    "print(\"Determinante= \", det)\n",
    "\n",
    "At=A.T\n",
    "print(\"Traspuesta de A:\\n\", At)\n",
    "\n",
    "Ai=la.inv(A)\n",
    "print(\"Inversa de A: \", Ai)"
   ]
  },
  {
   "cell_type": "markdown",
   "metadata": {},
   "source": [
    "- Podemos sumar matrices o multiplicarlas por un escalar"
   ]
  },
  {
   "cell_type": "code",
   "execution_count": 4,
   "metadata": {},
   "outputs": [
    {
     "name": "stdout",
     "output_type": "stream",
     "text": [
      "A + A = \n",
      " [[ 3  0  2]\n",
      " [ 2  0 -2]\n",
      " [ 0  1  1]]\n",
      "\n",
      " 3*A= \n",
      " [[ 9  0  6]\n",
      " [ 6  0 -6]\n",
      " [ 0  3  3]]\n"
     ]
    }
   ],
   "source": [
    "C= A + A\n",
    "print (\"A + A = \\n\", A)\n",
    "C= 3*A #multiplica todos los elementos de A por 3\n",
    "print()\n",
    "print (\" 3*A= \\n\", C)"
   ]
  },
  {
   "cell_type": "markdown",
   "metadata": {},
   "source": [
    "- Podemos multiplicar una matriz por un vector o una matriz por otra. \n",
    "- Para ellos podemos empelar el operador ${\\tt @}$ o la función $\\verb|dot|$"
   ]
  },
  {
   "cell_type": "code",
   "execution_count": 6,
   "metadata": {},
   "outputs": [
    {
     "name": "stdout",
     "output_type": "stream",
     "text": [
      "A@b=  [11 -6  6]\n",
      "A@Ai= \n",
      " [[  1.00000000e+00   0.00000000e+00   0.00000000e+00]\n",
      " [ -5.55111512e-17   1.00000000e+00   0.00000000e+00]\n",
      " [  0.00000000e+00   0.00000000e+00   1.00000000e+00]]\n",
      "np.dot(A,Ai)= \n",
      " [[  1.00000000e+00   0.00000000e+00   0.00000000e+00]\n",
      " [ -5.55111512e-17   1.00000000e+00   0.00000000e+00]\n",
      " [  0.00000000e+00   0.00000000e+00   1.00000000e+00]]\n"
     ]
    }
   ],
   "source": [
    "#matriz por vector\n",
    "\n",
    "w=A@b\n",
    "print(\"A@b= \", A@b)\n",
    "w=np.dot(A,b)\n",
    "\n",
    "#Matriz por matriz\n",
    "\n",
    "Ai=la.inv(A)\n",
    "\n",
    "B=A@Ai\n",
    "print(\"A@Ai= \\n\", B)\n",
    "\n",
    "C=np.dot(A,Ai)\n",
    "print(\"np.dot(A,Ai)= \\n\", C)"
   ]
  },
  {
   "cell_type": "markdown",
   "metadata": {},
   "source": [
    "- Mediante el operador $\\verb|*|$ multiplicamos los arrays componente a componente"
   ]
  },
  {
   "cell_type": "code",
   "execution_count": 7,
   "metadata": {},
   "outputs": [
    {
     "name": "stdout",
     "output_type": "stream",
     "text": [
      "A*Ai= \n",
      "  [[ 0.6  0.   0. ]\n",
      " [-0.4  0.  -2. ]\n",
      " [ 0.  -0.3  0. ]]\n"
     ]
    }
   ],
   "source": [
    "B=A*Ai\n",
    "print(\"A*Ai= \\n \", B)"
   ]
  },
  {
   "cell_type": "markdown",
   "metadata": {},
   "source": [
    "- Para resolver un sistema lineal se emplea el método $\\verb|solve|$ de ${\\tt Numpy}$\n",
    "- Calculamos la solución del sistema $A\\cdot X= b$:\n",
    "$$\n",
    "\\left( \\begin{array}{ccc}\n",
    "3& 0 & 2 \\\\ 2& 0 & -2 \\\\ 0  & 1 & 1\n",
    "\\end{array}\\right)\n",
    "\\left(\\begin{array}{l}\n",
    "x \\\\ y \\\\ z\n",
    "\\end{array}\\right)\n",
    "=\n",
    "\\left(\\begin{array}{l}\n",
    "1 \\\\ 2 \\\\ 4\n",
    "\\end{array}\\right)\n",
    "$$"
   ]
  },
  {
   "cell_type": "code",
   "execution_count": 8,
   "metadata": {},
   "outputs": [
    {
     "name": "stdout",
     "output_type": "stream",
     "text": [
      "Sol del sist. =  [ 0.6  4.4 -0.4]\n"
     ]
    }
   ],
   "source": [
    "v=la.solve(A,b)\n",
    "print(\"Sol del sist. = \", v)"
   ]
  },
  {
   "cell_type": "markdown",
   "metadata": {},
   "source": [
    "# Cálculo de autovalores y autovectores\n",
    "\n",
    "- Para calcular los autovalores y autovectores de una matriz usaremos el método $\\verb|eig|$ de la librería ${\\tt linag}$ de ${\\tt Numpy}$ \n",
    "\n",
    "- Calculares los autovalores y autovectores de la matriz:\n",
    "\n",
    "\n",
    "$$\n",
    "A=\\left( \\begin{array}{ccc}\n",
    "3& 1 & 0 \\\\ 2& 2 & 0 \\\\ 0  & 0 & 8\n",
    "\\end{array}\\right)\n",
    "$$"
   ]
  },
  {
   "cell_type": "code",
   "execution_count": 9,
   "metadata": {},
   "outputs": [
    {
     "name": "stdout",
     "output_type": "stream",
     "text": [
      "Autovalores= \n",
      " [ 4.  1.  8.]\n",
      "Autovectores \n",
      " [[ 0.70710678 -0.4472136   0.        ]\n",
      " [ 0.70710678  0.89442719  0.        ]\n",
      " [ 0.          0.          1.        ]]\n"
     ]
    }
   ],
   "source": [
    "A=np.array([ [3,1,0], [2,2,0], [0,0,8] ])\n",
    "w,v=la.eig(A)\n",
    "print(\"Autovalores= \\n\", w)\n",
    "print(\"Autovectores \\n\", v)"
   ]
  },
  {
   "cell_type": "markdown",
   "metadata": {},
   "source": [
    "- A partir de los autovalores y autovectores, podemos construir la matriz diagonal $D$ y la matriz de paso $P$, que verifica $A=P^{-1}D P$\n",
    "- El método $\\verb|diag|$ construye una matriz diagonal a partir de un vector\n",
    "- El método $\\verb|vstack|$ construye una matriz a partir de vectores. Cada vector lo sitúa en una fila"
   ]
  },
  {
   "cell_type": "code",
   "execution_count": 10,
   "metadata": {},
   "outputs": [
    {
     "name": "stdout",
     "output_type": "stream",
     "text": [
      "D= \n",
      " [[ 4.  0.  0.]\n",
      " [ 0.  1.  0.]\n",
      " [ 0.  0.  8.]]\n",
      "P=\n",
      " [[ 0.70710678 -0.4472136   0.        ]\n",
      " [ 0.70710678  0.89442719  0.        ]\n",
      " [ 0.          0.          1.        ]]\n",
      "P=\n",
      " [[ 0.70710678  0.70710678  0.        ]\n",
      " [-0.4472136   0.89442719  0.        ]\n",
      " [ 0.          0.          1.        ]]\n",
      "A-Pi*D*P=\n",
      " [[ -4.44089210e-16  -1.00000000e+00   0.00000000e+00]\n",
      " [  1.00000000e+00   0.00000000e+00   0.00000000e+00]\n",
      " [  0.00000000e+00   0.00000000e+00   0.00000000e+00]]\n"
     ]
    }
   ],
   "source": [
    "D=np.diag(w) #construye una matriz diagonal a partir del vector w\n",
    "print (\"D= \\n\",D)\n",
    "\n",
    "P=np.vstack([v[0], v[1], v[2]])  #cada final es uno de los autovectores\n",
    "print(\"P=\\n\",P)\n",
    "\n",
    "P=P.T\n",
    "\n",
    "print(\"P=\\n\",P)\n",
    "Pi=la.inv(P)\n",
    "\n",
    "I=A-Pi@D@P\n",
    "print(\"A-Pi*D*P=\\n\",I )"
   ]
  },
  {
   "cell_type": "code",
   "execution_count": null,
   "metadata": {},
   "outputs": [],
   "source": []
  }
 ],
 "metadata": {
  "kernelspec": {
   "display_name": "Python 3",
   "language": "python",
   "name": "python3"
  },
  "language_info": {
   "codemirror_mode": {
    "name": "ipython",
    "version": 3
   },
   "file_extension": ".py",
   "mimetype": "text/x-python",
   "name": "python",
   "nbconvert_exporter": "python",
   "pygments_lexer": "ipython3",
   "version": "3.6.9"
  }
 },
 "nbformat": 4,
 "nbformat_minor": 2
}
