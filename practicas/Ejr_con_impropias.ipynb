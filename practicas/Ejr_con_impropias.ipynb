{
 "cells": [
  {
   "cell_type": "markdown",
   "metadata": {},
   "source": [
    "- Ejr: Se considera la región R limitada por las curvas $y(x^2+1)+arctan(x)=0$ y $x^2y^3=1$, en el intervalo $[0,1]$\n",
    "- a) Calcular el área de la región R"
   ]
  },
  {
   "cell_type": "code",
   "execution_count": 19,
   "metadata": {},
   "outputs": [
    {
     "data": {
      "image/png": "[encoded data removed]",
      "text/plain": [
       "<matplotlib.figure.Figure at 0x7f81399e2dd8>"
      ]
     },
     "metadata": {},
     "output_type": "display_data"
    },
    {
     "name": "stdout",
     "output_type": "stream",
     "text": [
      "limite de f en x=0:  0\n",
      "limite de g en x=0:  oo\n"
     ]
    }
   ],
   "source": [
    "import sympy as sp\n",
    "x=sp.symbols('x')\n",
    "f=-sp.atan(x)/(x**2+1)\n",
    "g=x**(-2/3)\n",
    "from sympy.plotting import plot\n",
    "%matplotlib inline\n",
    "fig1=plot(f,show=False,xlim=(0,1.5),ylim=(-1,10))\n",
    "fig2=plot(g,show=False,line_color='red')\n",
    "fig1.extend(fig2)\n",
    "fig3=sp.plot_implicit(sp.Eq(x,1),show=False, line_color='green') #Para recta\n",
    "fig1.extend(fig3)\n",
    "fig1.show()\n",
    "l=sp.limit(f,x,0)\n",
    "print(\"limite de f en x=0: \", l)\n",
    "l=sp.limit(g,x,0)\n",
    "print(\"limite de g en x=0: \",l)\n",
    "#Tenemos una función no acotada"
   ]
  },
  {
   "cell_type": "markdown",
   "metadata": {},
   "source": [
    "- El área es \n",
    "$$\n",
    "\\displaystyle \\int_0^1 \\left(x^{-2/3} - \\left(-\\frac{atan(x)}{x^2+1}\\right) \\right)dx= \\displaystyle \\int_0^1 x^{-2/3} +  \\int_0^1 \\frac{atan(x)}{x^2+1} dx \n",
    "$$\n",
    "\n",
    "- La primera integral es una integral impropia\n"
   ]
  },
  {
   "cell_type": "code",
   "execution_count": 21,
   "metadata": {},
   "outputs": [
    {
     "name": "stdout",
     "output_type": "stream",
     "text": [
      "3.00000000000000\n",
      "pi**2/32\n",
      "Area=  pi**2/32 + 3.0\n"
     ]
    }
   ],
   "source": [
    "I1= sp.integrate(g,(x,0,1))\n",
    "print(I1)\n",
    "I2= sp.integrate(-f,(x,0,1))\n",
    "print(I2)\n",
    "A= I1+I2\n",
    "print(\"Area= \", A)"
   ]
  },
  {
   "cell_type": "markdown",
   "metadata": {},
   "source": [
    "- Ejr: Determinar el volumen del sólido obtenido al girar la región limitada por la curva $e^{-y}=-x$ y los ejes de coordenadas alrededor del eje OX"
   ]
  },
  {
   "cell_type": "code",
   "execution_count": 27,
   "metadata": {},
   "outputs": [
    {
     "name": "stdout",
     "output_type": "stream",
     "text": [
      "-oo\n"
     ]
    },
    {
     "data": {
      "image/png": "[encoded data removed]",
      "text/plain": [
       "<matplotlib.figure.Figure at 0x7f8139824cf8>"
      ]
     },
     "metadata": {},
     "output_type": "display_data"
    }
   ],
   "source": [
    "from sympy.plotting import plot, plot_parametric\n",
    "%matplotlib inline\n",
    "y=sp.symbols('y')\n",
    "x=sp.symbols('x')\n",
    "f=-sp.log(-x)\n",
    "l=sp.limit(f,x, -sp.oo)\n",
    "print(l)\n",
    "fig1=plot(f)\n"
   ]
  },
  {
   "cell_type": "markdown",
   "metadata": {},
   "source": [
    "- Método de discos"
   ]
  },
  {
   "cell_type": "code",
   "execution_count": 29,
   "metadata": {},
   "outputs": [
    {
     "name": "stdout",
     "output_type": "stream",
     "text": [
      "2*pi\n"
     ]
    }
   ],
   "source": [
    "f=-sp.log(-x)\n",
    "V=sp.pi* sp.integrate(f**2,(x,-1,0), manual=True)\n",
    "print(V)\n"
   ]
  },
  {
   "cell_type": "markdown",
   "metadata": {},
   "source": [
    "- Método de capas"
   ]
  },
  {
   "cell_type": "code",
   "execution_count": 35,
   "metadata": {},
   "outputs": [
    {
     "name": "stdout",
     "output_type": "stream",
     "text": [
      "2*pi\n"
     ]
    }
   ],
   "source": [
    "g=y*sp.exp(-y)\n",
    "V=2*sp.pi*sp.integrate(g,(y,0,sp.oo))\n",
    "print(V)"
   ]
  },
  {
   "cell_type": "code",
   "execution_count": null,
   "metadata": {},
   "outputs": [],
   "source": []
  },
  {
   "cell_type": "code",
   "execution_count": null,
   "metadata": {},
   "outputs": [],
   "source": []
  }
 ],
 "metadata": {
  "kernelspec": {
   "display_name": "Python 3",
   "language": "python",
   "name": "python3"
  },
  "language_info": {
   "codemirror_mode": {
    "name": "ipython",
    "version": 3
   },
   "file_extension": ".py",
   "mimetype": "text/x-python",
   "name": "python",
   "nbconvert_exporter": "python",
   "pygments_lexer": "ipython3",
   "version": "3.6.9"
  }
 },
 "nbformat": 4,
 "nbformat_minor": 2
}
