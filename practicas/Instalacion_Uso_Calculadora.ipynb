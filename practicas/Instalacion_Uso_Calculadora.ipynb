{
 "cells": [
  {
   "cell_type": "markdown",
   "metadata": {},
   "source": [
    "- En las prácticas de la asignatura usaremos ${\\tt Python}$ (versión 3.x).\n",
    "- En Windows tenéis que instalar Anaconda: https://www.anaconda.com/products/individual\n",
    "- Anaconda es una distribución de ${\\tt Python}$ (y ${\\tt R}$) open-source, que un elevado número de librerías/paquetes de ${\\tt Python}$.\n",
    "- Las librerias/paquetes principales que usaremos en el curso son: \n",
    "    - ${\\tt Sympy\\, (Symbolic \\, Python)}$: módulo de cálculo simbólico.\n",
    "    - ${\\tt Numpy \\,(Numerical \\, Python)}$: módulo que permite el manejo de arrays multidimensionales.\n",
    "    - ${\\tt Matplotlib}$: módulo de representación gráfica de funciones.\n",
    "    - ${\\tt Scipy\\, (Scientific\\, Python)}$: módulo de cálculo numérico. \n",
    "- ${\\tt Python}$ es un lenguaje de programación interpretado y multiparadigma (soporta programación imperativa, programación orientada a objetos y programación funcional). Es un lenguaje interpretado, dinámico y multiplataforma.\n"
   ]
  },
  {
   "cell_type": "markdown",
   "metadata": {},
   "source": [
    "# Páginas de documentación\n",
    "\n",
    "- Todos los enlaces accesibles desde la página web: https://www.scipy.org/docs.html\n",
    "\n",
    "- Scipy: https://docs.sympy.org/latest/index.html\n",
    "- Numpy: https://numpy.org/doc/\n",
    "- Matplotlib: https://matplotlib.org/\n",
    "- Scipy: https://docs.scipy.org/doc/scipy/reference/"
   ]
  },
  {
   "cell_type": "markdown",
   "metadata": {},
   "source": [
    "# Primeros pasos\n",
    "\n",
    "- Para importar/cargar un paquete con un alias asociado basta teclear\n",
    "${\\tt import\\, paquete\\, as\\, alias}$"
   ]
  },
  {
   "cell_type": "code",
   "execution_count": 1,
   "metadata": {},
   "outputs": [],
   "source": [
    "#Cargamos el paquete simbólico Sympy con el alias sp\n",
    "import sympy as sp\n",
    "#Cargamos el paquete numérico Numpy con el alias np\n",
    "import numpy as np\n",
    "#cargamos el paquete numérico Scipy con alias sc\n",
    "import scipy as sc\n",
    "#cargamos Matplotlib con el alias plt\n",
    "import pylab as plt"
   ]
  },
  {
   "cell_type": "markdown",
   "metadata": {},
   "source": [
    "Desde este momento podemos utilizar las funciones de cada uno de los paquetes tecleando:\n",
    "-  $\\verb|sp.funcion(argumentos)|$\n",
    "- $\\verb|np.funcion(argumentos)|$\n",
    "- $\\verb|sc.funcion(argumentos)|$\n",
    "- $\\verb|plt.funcion(argumentos)|$"
   ]
  },
  {
   "cell_type": "markdown",
   "metadata": {},
   "source": [
    "# Trabajando con conjuntos numéricos\n",
    "\n",
    "- Uso de la consola ${\\tt Ipython}$ como calculadora"
   ]
  },
  {
   "cell_type": "code",
   "execution_count": 2,
   "metadata": {},
   "outputs": [
    {
     "data": {
      "text/plain": [
       "35"
      ]
     },
     "execution_count": 2,
     "metadata": {},
     "output_type": "execute_result"
    }
   ],
   "source": [
    "(2+3)*7"
   ]
  },
  {
   "cell_type": "markdown",
   "metadata": {},
   "source": [
    "- En Python 3.x la división es resultado de la división de dos númros enteros es un número real (en versiones anteriores esto no sucede).\n",
    "- Para trabajar con potencias se emplea el doble asterisco."
   ]
  },
  {
   "cell_type": "code",
   "execution_count": 3,
   "metadata": {},
   "outputs": [
    {
     "data": {
      "text/plain": [
       "1.5"
      ]
     },
     "execution_count": 3,
     "metadata": {},
     "output_type": "execute_result"
    }
   ],
   "source": [
    "3/2\n",
    "3./2"
   ]
  },
  {
   "cell_type": "code",
   "execution_count": 4,
   "metadata": {},
   "outputs": [
    {
     "data": {
      "text/plain": [
       "144"
      ]
     },
     "execution_count": 4,
     "metadata": {},
     "output_type": "execute_result"
    }
   ],
   "source": [
    "12**2"
   ]
  },
  {
   "cell_type": "markdown",
   "metadata": {},
   "source": [
    "- Esta \"calculadora científica\" dispone de muchas constantes de uso común predefinidas, como por ejemplo, $e$, $\\pi$"
   ]
  },
  {
   "cell_type": "code",
   "execution_count": 5,
   "metadata": {},
   "outputs": [
    {
     "data": {
      "text/plain": [
       "2.718281828459045"
      ]
     },
     "execution_count": 5,
     "metadata": {},
     "output_type": "execute_result"
    }
   ],
   "source": [
    "np.e"
   ]
  },
  {
   "cell_type": "code",
   "execution_count": 6,
   "metadata": {},
   "outputs": [
    {
     "data": {
      "text/plain": [
       "3.141592653589793"
      ]
     },
     "execution_count": 6,
     "metadata": {},
     "output_type": "execute_result"
    }
   ],
   "source": [
    "np.pi"
   ]
  },
  {
   "cell_type": "markdown",
   "metadata": {},
   "source": [
    "- En el módulo ${\\tt Numpy}$ tenemos disponibles las funciones matemáticas usualres (raíz cuadrada, logaritmo, funciones trigonométircas, etc.)\n",
    "- Estas funciones también están disponibles en el paquete ${\\tt math}$ de Python."
   ]
  },
  {
   "cell_type": "code",
   "execution_count": 7,
   "metadata": {},
   "outputs": [
    {
     "data": {
      "text/plain": [
       "12.0"
      ]
     },
     "execution_count": 7,
     "metadata": {},
     "output_type": "execute_result"
    }
   ],
   "source": [
    "np.sqrt(144) #raíz cuadrada"
   ]
  },
  {
   "cell_type": "code",
   "execution_count": 8,
   "metadata": {},
   "outputs": [
    {
     "data": {
      "text/plain": [
       "2.4849066497880004"
      ]
     },
     "execution_count": 8,
     "metadata": {},
     "output_type": "execute_result"
    }
   ],
   "source": [
    "np.log(12) #logaritmo neperiano\n"
   ]
  },
  {
   "cell_type": "code",
   "execution_count": 9,
   "metadata": {},
   "outputs": [
    {
     "data": {
      "text/plain": [
       "1.0"
      ]
     },
     "execution_count": 9,
     "metadata": {},
     "output_type": "execute_result"
    }
   ],
   "source": [
    "np.sin(np.pi/2) #funciones trigonométricas\n"
   ]
  },
  {
   "cell_type": "code",
   "execution_count": 10,
   "metadata": {},
   "outputs": [
    {
     "data": {
      "text/plain": [
       "6.123233995736766e-17"
      ]
     },
     "execution_count": 10,
     "metadata": {},
     "output_type": "execute_result"
    }
   ],
   "source": [
    "np.cos(np.pi/2)\n"
   ]
  },
  {
   "cell_type": "code",
   "execution_count": 11,
   "metadata": {},
   "outputs": [
    {
     "data": {
      "text/plain": [
       "-1.2246467991473532e-16"
      ]
     },
     "execution_count": 11,
     "metadata": {},
     "output_type": "execute_result"
    }
   ],
   "source": [
    "np.tan(np.pi)"
   ]
  },
  {
   "cell_type": "markdown",
   "metadata": {},
   "source": [
    "- La consola Ipython es una $\\textbf{calculadora programable}$ muy potente. Podemos guardar en variables, que quedan almacenadas en memoria, valores numéricos.\n",
    "- Por ejemplo, si queremos calcular la hipotenusa de un triángulo retángulo, sabiendo que los catetos mide $a=2$, $b=5$, basta teclear:"
   ]
  },
  {
   "cell_type": "code",
   "execution_count": 12,
   "metadata": {},
   "outputs": [
    {
     "data": {
      "text/plain": [
       "5.3851648071345037"
      ]
     },
     "execution_count": 12,
     "metadata": {},
     "output_type": "execute_result"
    }
   ],
   "source": [
    "a=2\n",
    "b=5\n",
    "h=np.sqrt(a**2+b**2)\n",
    "h"
   ]
  },
  {
   "cell_type": "markdown",
   "metadata": {},
   "source": [
    "- Python permite trabajar con números complejos y operar con ellos.\n",
    "- La parte imaginaria se identifica con la letra ${\\tt j}$."
   ]
  },
  {
   "cell_type": "code",
   "execution_count": 13,
   "metadata": {},
   "outputs": [],
   "source": [
    "a=1+2j\n",
    "b=1+5j"
   ]
  },
  {
   "cell_type": "code",
   "execution_count": 14,
   "metadata": {},
   "outputs": [
    {
     "data": {
      "text/plain": [
       "(2+7j)"
      ]
     },
     "execution_count": 14,
     "metadata": {},
     "output_type": "execute_result"
    }
   ],
   "source": [
    "a+b"
   ]
  },
  {
   "cell_type": "code",
   "execution_count": 15,
   "metadata": {},
   "outputs": [
    {
     "data": {
      "text/plain": [
       "(-9+7j)"
      ]
     },
     "execution_count": 15,
     "metadata": {},
     "output_type": "execute_result"
    }
   ],
   "source": [
    "a*b"
   ]
  },
  {
   "cell_type": "code",
   "execution_count": 16,
   "metadata": {},
   "outputs": [
    {
     "data": {
      "text/plain": [
       "(1-2j)"
      ]
     },
     "execution_count": 16,
     "metadata": {},
     "output_type": "execute_result"
    }
   ],
   "source": [
    "a.conjugate() #función que devuelve el conjuado del número \"a\""
   ]
  },
  {
   "cell_type": "markdown",
   "metadata": {},
   "source": [
    "# Definir funciones\n",
    "- Distinguimos dos modos de definir funciones, para uso numérico y para uso simbólico."
   ]
  },
  {
   "cell_type": "markdown",
   "metadata": {},
   "source": [
    "- Funciones de uso numérico"
   ]
  },
  {
   "cell_type": "code",
   "execution_count": 17,
   "metadata": {},
   "outputs": [],
   "source": [
    "def f(x):\n",
    "    return (x**3-27)/(2*x**2-4)"
   ]
  },
  {
   "cell_type": "markdown",
   "metadata": {},
   "source": [
    "Si la función tiene una única línea, también se puede definir de forma más compacta"
   ]
  },
  {
   "cell_type": "code",
   "execution_count": 18,
   "metadata": {},
   "outputs": [],
   "source": [
    "f=lambda x: (x**3-27)/(2*x**2-4)"
   ]
  },
  {
   "cell_type": "markdown",
   "metadata": {},
   "source": [
    "- Para usarla basta escribir el nombre de la función, y entre paréntesis un argumento"
   ]
  },
  {
   "cell_type": "code",
   "execution_count": 19,
   "metadata": {},
   "outputs": [
    {
     "data": {
      "text/plain": [
       "-4.75"
      ]
     },
     "execution_count": 19,
     "metadata": {},
     "output_type": "execute_result"
    }
   ],
   "source": [
    "f(2)"
   ]
  },
  {
   "cell_type": "markdown",
   "metadata": {},
   "source": [
    "- Funciones de uso simbólico dentro de Sympy"
   ]
  },
  {
   "cell_type": "code",
   "execution_count": 20,
   "metadata": {},
   "outputs": [
    {
     "name": "stdout",
     "output_type": "stream",
     "text": [
      "-x + cos(x)\n"
     ]
    }
   ],
   "source": [
    "x=sp.symbols('x') #la variable x será un tipo simbólico \n",
    "f=sp.cos(x)-x\n",
    "print(f)"
   ]
  },
  {
   "cell_type": "markdown",
   "metadata": {},
   "source": [
    "# Lista\n",
    "\n",
    "- Una lista es un conjunto de datos $x=[a_0, a_1, \\ldots , a_{n-1}]$\n",
    "- Los datos pueden ser de cualquier tipo\n",
    "- A los elementos de una lista se accede vía índices, $x[i]$, $i=0, \\ldots, n-1$\n",
    "- Fijáos que en una lista de $n$ elementos, los índices se mueven desde $0$ hasta $n-1$\n"
   ]
  },
  {
   "cell_type": "code",
   "execution_count": 22,
   "metadata": {},
   "outputs": [
    {
     "name": "stdout",
     "output_type": "stream",
     "text": [
      "Longitud de la lista =  4\n",
      "2\n",
      "4\n",
      "6\n"
     ]
    }
   ],
   "source": [
    "x=[2, 4, 5, 6]\n",
    "n=len(x)\n",
    "print (\"Longitud de la lista = \", n) #sabemos la longitud de la lista\n",
    "print(x[0])  #mostramos el primer elemento\n",
    "print(x[1]) #mostramos el segundo elemnto\n",
    "print(x[n-1]) #mostramos el último elemento "
   ]
  },
  {
   "cell_type": "markdown",
   "metadata": {},
   "source": [
    "- Podemos crear una lista de números con el método ${\\tt range(a,b,step}$\n",
    "- Crea una lista que empieza en ${\\tt a}$ y termina en ${\\tt b-step}$, separados con paso ${\\tt step}$"
   ]
  },
  {
   "cell_type": "code",
   "execution_count": 23,
   "metadata": {},
   "outputs": [
    {
     "name": "stdout",
     "output_type": "stream",
     "text": [
      "range(-4, 10, 2)\n"
     ]
    }
   ],
   "source": [
    "l=range(-4, 10, 2)\n",
    "print(l)"
   ]
  },
  {
   "cell_type": "markdown",
   "metadata": {},
   "source": [
    "- Para recorrer los elementos de una lista, podemos emplear un bucle\n",
    "$$\n",
    "\\verb| for k in lista:|\n",
    "$$\n",
    "- El código que va dentro del bucle tiene que ir tabulado"
   ]
  },
  {
   "cell_type": "code",
   "execution_count": 25,
   "metadata": {},
   "outputs": [
    {
     "name": "stdout",
     "output_type": "stream",
     "text": [
      "Mostramos el contenido de la lista l\n",
      "-4\n",
      "-2\n",
      "0\n",
      "2\n",
      "4\n",
      "6\n",
      "8\n",
      "\n",
      " Mostramos el contenido de la lista x\n",
      "2\n",
      "4\n",
      "5\n",
      "6\n"
     ]
    }
   ],
   "source": [
    "print(\"Mostramos el contenido de la lista l\")\n",
    "for k in l:\n",
    "    print(k)\n",
    "\n",
    "print(\"\\n Mostramos el contenido de la lista x\")\n",
    "for i in x:\n",
    "    print(i)\n",
    "\n"
   ]
  },
  {
   "cell_type": "markdown",
   "metadata": {},
   "source": [
    "# Arrays de Numpy\n",
    "\n",
    "- Numpy es una librería que nos permite crear arrays de cualquier dimensión (vectores, matrices, etc)\n",
    "- Mediante el método $\\verb|np.arange(a,b,step)|$ creamos un array unidimensional (vector) de números, que empieza en $a$ y termina $b-step$, separados con paso $step$. Si $step$ se omite, su valor por defecto es $1$."
   ]
  },
  {
   "cell_type": "code",
   "execution_count": 29,
   "metadata": {},
   "outputs": [
    {
     "name": "stdout",
     "output_type": "stream",
     "text": [
      "x (paso 3) =  [-1  2]\n",
      "x (paso 1)  =  [-1  0  1  2  3]\n"
     ]
    }
   ],
   "source": [
    "import numpy as np\n",
    "x=np.arange(-1,4,3)\n",
    "print(\"x (paso 3) = \", x)\n",
    "\n",
    "x=np.arange(-1,4)\n",
    "print(\"x (paso 1)  = \", x)"
   ]
  },
  {
   "cell_type": "markdown",
   "metadata": {},
   "source": [
    "- Con Numpy podemos vectorizar funciones, para que actúe sobre todos los elementos de un array\n",
    "- Usamos el método $\\verb|np.vectorize|$"
   ]
  },
  {
   "cell_type": "code",
   "execution_count": 36,
   "metadata": {},
   "outputs": [
    {
     "name": "stdout",
     "output_type": "stream",
     "text": [
      "x=  [1 2 3]\n",
      "f(1)=  -8.0\n",
      "f(x)=  [-8.         -0.03661165  0.23125989]\n"
     ]
    }
   ],
   "source": [
    "x=np.arange(1,4)\n",
    "print(\"x= \",x)\n",
    "import math\n",
    "f=lambda a: (a**3+ math.sqrt(a)-10)/(a**4)  #f actúa sobre un único número \n",
    "print(\"f(1)= \",f(1))\n",
    "#f no actúa sobre los elemenots de una lista\n",
    "#print(\"f(x)= \",f(x)) #da un error\n",
    "\n",
    "g=np.vectorize(f)\n",
    "print(\"f(x)= \", g(x))"
   ]
  },
  {
   "cell_type": "markdown",
   "metadata": {},
   "source": [
    "- Con Numpy podemos crear un array unidimensional de tamaño $n$ de números equiespaciados\n",
    "- Usamos el método $\\verb|np.linspace(a,b,n)|$\n",
    "- Crea un vector unidimensional que empiza en $a$ y termina en $b$, de tamaño $n$"
   ]
  },
  {
   "cell_type": "code",
   "execution_count": 38,
   "metadata": {},
   "outputs": [
    {
     "name": "stdout",
     "output_type": "stream",
     "text": [
      "x=  [ 0.          1.33333333  2.66666667  4.        ]\n"
     ]
    }
   ],
   "source": [
    "a=0.\n",
    "b=4\n",
    "n=4\n",
    "x=np.linspace(a,b,n)\n",
    "print(\"x= \",x)"
   ]
  },
  {
   "cell_type": "code",
   "execution_count": null,
   "metadata": {},
   "outputs": [],
   "source": []
  }
 ],
 "metadata": {
  "kernelspec": {
   "display_name": "Python 3",
   "language": "python",
   "name": "python3"
  },
  "language_info": {
   "codemirror_mode": {
    "name": "ipython",
    "version": 3
   },
   "file_extension": ".py",
   "mimetype": "text/x-python",
   "name": "python",
   "nbconvert_exporter": "python",
   "pygments_lexer": "ipython3",
   "version": "3.6.9"
  }
 },
 "nbformat": 4,
 "nbformat_minor": 2
}
