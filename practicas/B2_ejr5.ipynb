{
 "cells": [
  {
   "cell_type": "markdown",
   "metadata": {},
   "source": [
    "Ejr5: Calcular el área de la región plana encerrada entre las gráficas de las funciones $f(x)=x^2 -4$ y $g(x)=2x-\\frac{8}{10}x^2+3$"
   ]
  },
  {
   "cell_type": "code",
   "execution_count": 1,
   "metadata": {},
   "outputs": [
    {
     "data": {
      "image/png": "[encoded data removed]",
      "text/plain": [
       "<matplotlib.figure.Figure at 0x7f5e27649668>"
      ]
     },
     "metadata": {},
     "output_type": "display_data"
    }
   ],
   "source": [
    "import sympy as sp\n",
    "x=sp.symbols('x')\n",
    "f=x**2-4\n",
    "g=2*x-8/10*x**2+3\n",
    "from sympy.plotting import plot\n",
    "fig=plot(f,show=False,line_color='blue',xlim=(-3,4),ylim=(-5,5))\n",
    "fig2=plot(g,show=False,line_color='red')\n",
    "fig.extend(fig2)\n",
    "%matplotlib inline\n",
    "fig.show()"
   ]
  },
  {
   "cell_type": "code",
   "execution_count": 2,
   "metadata": {},
   "outputs": [
    {
     "name": "stdout",
     "output_type": "stream",
     "text": [
      "[-1.49323210162064, 2.60434321273175]\n",
      "area=  20.6396386204417\n"
     ]
    }
   ],
   "source": [
    "sol=sp.solve(g-f,x)\n",
    "print(sol)\n",
    "A=sp.integrate(g-f, (x,sol[0],sol[1]))\n",
    "print(\"area= \",A)"
   ]
  },
  {
   "cell_type": "markdown",
   "metadata": {},
   "source": [
    "- Aproximar el área mediante el método de punto medio compuesto (n=15 subintervalos)"
   ]
  },
  {
   "cell_type": "code",
   "execution_count": 35,
   "metadata": {},
   "outputs": [
    {
     "name": "stdout",
     "output_type": "stream",
     "text": [
      "-1.49323210162064 2.60434321273175\n",
      "dx=  0.819515062870479\n",
      "-0.673717038750163\n",
      "-1.8*x**2 + 2*x + 7\n",
      "[-1.08347457018540 -0.263959507314923 0.555555555555555 1.37507061842603\n",
      " 2.19458568129651]\n",
      "Valor aproximado por pto medio=  21.0524313928505\n"
     ]
    }
   ],
   "source": [
    "import numpy as np\n",
    "a=sol[0]\n",
    "b=sol[1]\n",
    "print(a,b)\n",
    "n=5  #Numero de subintervalos..\n",
    "dx=(b-a)/n\n",
    "print(\"dx= \", dx)\n",
    "print(a+dx)\n",
    "G=g-f\n",
    "print(G)\n",
    "G1=sp.lambdify(x,G)\n",
    "ini=a+dx/2\n",
    "fin=b\n",
    "xk=np.arange(ini,fin,dx) #PUntos medios de los subintervalos. Vamos a usar \n",
    "print(xk)\n",
    "Ia=dx*sum(G1(xk))\n",
    "\n",
    "print(\"Valor aproximado por pto medio= \", Ia)\n"
   ]
  },
  {
   "cell_type": "markdown",
   "metadata": {},
   "source": [
    " - Método de trapecio compuesto (15 subintervalos)"
   ]
  },
  {
   "cell_type": "code",
   "execution_count": 49,
   "metadata": {},
   "outputs": [
    {
     "name": "stdout",
     "output_type": "stream",
     "text": [
      "a, b=  -1.4932321016206416 2.6043432127317527\n",
      "[-1.4932321  -0.67371704  0.14579802  0.96531309  1.78482815  2.60434321]\n",
      "15.8512424605\n"
     ]
    }
   ],
   "source": [
    "n=5 #necesitamos un nodo más, n+1\n",
    "a=float(sol[0].evalf())\n",
    "b=float(sol[1].evalf())\n",
    "print(\"a, b= \", a, b)\n",
    "dx=(b-a)/n\n",
    "xk=np.linspace(a,b,n+1)\n",
    "print(xk)\n",
    "yk=2*G1(xk)\n",
    "yk[0]=G1(xk[0])\n",
    "yk[1]=G1(xk[n])\n",
    "Ia=dx/2*sum(yk)\n",
    "print(Ia)"
   ]
  },
  {
   "cell_type": "markdown",
   "metadata": {},
   "source": [
    "Ejr 7(no se puede resolver la integral vía Sympy -- está fuera de boletín): Calcular la longitud del arco de la curva $y=\\sin(4\\ln(x+1))$ entre $x=0$ y $x=9$"
   ]
  },
  {
   "cell_type": "code",
   "execution_count": null,
   "metadata": {},
   "outputs": [],
   "source": [
    "f=sp.sin(4*sp.log(x+1))\n",
    "df=sp.diff(f,x)\n",
    "print(df)\n",
    "L=sp.integrate(sp.sqrt(1+df**2),(x,0,9))\n",
    "print(\"Longitud de arco de curva= \",L)"
   ]
  },
  {
   "cell_type": "code",
   "execution_count": null,
   "metadata": {},
   "outputs": [],
   "source": []
  }
 ],
 "metadata": {
  "kernelspec": {
   "display_name": "Python 3",
   "language": "python",
   "name": "python3"
  },
  "language_info": {
   "codemirror_mode": {
    "name": "ipython",
    "version": 3
   },
   "file_extension": ".py",
   "mimetype": "text/x-python",
   "name": "python",
   "nbconvert_exporter": "python",
   "pygments_lexer": "ipython3",
   "version": "3.6.9"
  }
 },
 "nbformat": 4,
 "nbformat_minor": 2
}
